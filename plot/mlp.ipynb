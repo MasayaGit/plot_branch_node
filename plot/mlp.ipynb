{
 "cells": [
  {
   "cell_type": "code",
   "execution_count": 1,
   "metadata": {},
   "outputs": [],
   "source": [
    "import sys\n",
    "sys.path.append('../get_branch/linear')\n",
    "sys.path.append('../model_json/make_json_program')\n",
    "\n",
    "import json\n",
    "import make_mlp_json\n",
    "import input_branch\n",
    "import hidden_branch\n",
    "import output_branch"
   ]
  },
  {
   "cell_type": "code",
   "execution_count": 2,
   "metadata": {},
   "outputs": [],
   "source": [
    "make_mlp_json.make_json()"
   ]
  },
  {
   "cell_type": "code",
   "execution_count": 3,
   "metadata": {},
   "outputs": [
    {
     "data": {
      "text/plain": [
       "{'layer0': {'input_features': 784, 'out_features': 512, 'layer_type': 'input'},\n",
       " 'layer1': {'input_features': 512,\n",
       "  'out_features': 512,\n",
       "  'layer_type': 'hidden'},\n",
       " 'layer2': {'input_features': 512, 'out_features': 10, 'layer_type': 'output'}}"
      ]
     },
     "execution_count": 3,
     "metadata": {},
     "output_type": "execute_result"
    }
   ],
   "source": [
    "json_file = open('../model_json/json/mlp.json', 'r')\n",
    "json_value  = json.load(json_file)\n",
    "json_value"
   ]
  },
  {
   "cell_type": "code",
   "execution_count": 4,
   "metadata": {},
   "outputs": [
    {
     "data": {
      "text/plain": [
       "{512: 512}"
      ]
     },
     "execution_count": 4,
     "metadata": {},
     "output_type": "execute_result"
    }
   ],
   "source": [
    "intput_dict = input_branch.get_branch(json_value[\"layer1\"])\n",
    "intput_dict"
   ]
  },
  {
   "cell_type": "code",
   "execution_count": 5,
   "metadata": {},
   "outputs": [
    {
     "name": "stdout",
     "output_type": "stream",
     "text": [
      "0\n",
      "{1296: 512}\n",
      "1\n",
      "{522: 512}\n"
     ]
    }
   ],
   "source": [
    "for i in range(len(json_value) -1):\n",
    "    print(i)\n",
    "    now_str_layer = \"layer\" + str(i+1)\n",
    "    before_str_layer = \"layer\" + str(i)\n",
    "    now_layer_json_value = json_value[now_str_layer]\n",
    "    before_layer_json_value = json_value[before_str_layer]\n",
    "    print(hidden_branch.get_branch(now_layer_json_value,before_layer_json_value))"
   ]
  },
  {
   "cell_type": "code",
   "execution_count": 6,
   "metadata": {},
   "outputs": [
    {
     "data": {
      "text/plain": [
       "{512: 10}"
      ]
     },
     "execution_count": 6,
     "metadata": {},
     "output_type": "execute_result"
    }
   ],
   "source": [
    "output_branch.get_branch(json_value[\"layer2\"])"
   ]
  }
 ],
 "metadata": {
  "kernelspec": {
   "display_name": "Python 3",
   "language": "python",
   "name": "python3"
  },
  "language_info": {
   "codemirror_mode": {
    "name": "ipython",
    "version": 3
   },
   "file_extension": ".py",
   "mimetype": "text/x-python",
   "name": "python",
   "nbconvert_exporter": "python",
   "pygments_lexer": "ipython3",
   "version": "3.8.1"
  }
 },
 "nbformat": 4,
 "nbformat_minor": 4
}
