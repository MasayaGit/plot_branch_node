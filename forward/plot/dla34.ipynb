{
 "cells": [
  {
   "cell_type": "code",
   "execution_count": 1,
   "metadata": {},
   "outputs": [],
   "source": [
    "import sys\n",
    "sys.path.append('../')\n",
    "sys.path.append('../get_branch/linear')\n",
    "sys.path.append('../get_branch/cnn')\n",
    "sys.path.append('../get_branch/max_pooling')\n",
    "sys.path.append('../get_branch/interpolate')\n",
    "sys.path.append('../get_branch/adaptive_avg_pooling')\n",
    "sys.path.append('../model_json/make_json_program/cnn')\n",
    "sys.path.append('../util')\n",
    "\n",
    "import json\n",
    "import numpy as np\n",
    "import matplotlib.pyplot as plt\n",
    "import util_for_hist\n",
    "\n",
    "import make_dla34_json\n",
    "import linear_input_branch\n",
    "import linear_hidden_branch\n",
    "import linear_output_branch\n",
    "import cnn_input_branch\n",
    "import cnn_hidden_branch\n",
    "import cnn_output_branch\n",
    "import max_pooling_branch\n",
    "import interpolate_branch\n",
    "import adaptive_avg_pooling_branch"
   ]
  },
  {
   "cell_type": "code",
   "execution_count": 2,
   "metadata": {},
   "outputs": [],
   "source": [
    "#画像は正方形を仮定\n",
    "IMG_SIZE = 224"
   ]
  },
  {
   "cell_type": "code",
   "execution_count": 3,
   "metadata": {},
   "outputs": [],
   "source": [
    "make_dla34_json.make_json()"
   ]
  },
  {
   "cell_type": "code",
   "execution_count": 4,
   "metadata": {},
   "outputs": [
    {
     "data": {
      "text/plain": [
       "{'layer0': {'input_channels': 3,\n",
       "  'out_channels': 16,\n",
       "  'kernel_size': 7,\n",
       "  'layer_type': 'input',\n",
       "  'processing_type': 'cnn',\n",
       "  'skip_connection': 0},\n",
       " 'layer1': {'input_channels': 16,\n",
       "  'out_channels': 32,\n",
       "  'kernel_size': 3,\n",
       "  'layer_type': 'hidden',\n",
       "  'processing_type': 'cnn',\n",
       "  'skip_connection': 0},\n",
       " 'layer2': {'input_channels': 32,\n",
       "  'out_channels': 64,\n",
       "  'kernel_size': 3,\n",
       "  'layer_type': 'hidden',\n",
       "  'processing_type': 'cnn',\n",
       "  'skip_connection': 0},\n",
       " 'layer3': {'input_channels': 64,\n",
       "  'out_channels': 64,\n",
       "  'kernel_size': 3,\n",
       "  'layer_type': 'hidden',\n",
       "  'processing_type': 'cnn',\n",
       "  'skip_connection': 1},\n",
       " 'layer4': {'input_channels': 128,\n",
       "  'out_channels': 64,\n",
       "  'kernel_size': 1,\n",
       "  'layer_type': 'hidden',\n",
       "  'processing_type': 'cnn',\n",
       "  'skip_connection': 0},\n",
       " 'layer5': {'input_channels': 64,\n",
       "  'out_channels': 128,\n",
       "  'kernel_size': 3,\n",
       "  'layer_type': 'hidden',\n",
       "  'processing_type': 'cnn',\n",
       "  'skip_connection': 1},\n",
       " 'layer6': {'input_channels': 128,\n",
       "  'out_channels': 128,\n",
       "  'kernel_size': 3,\n",
       "  'layer_type': 'hidden',\n",
       "  'processing_type': 'cnn',\n",
       "  'skip_connection': 1},\n",
       " 'layer7': {'input_channels': 256,\n",
       "  'out_channels': 128,\n",
       "  'kernel_size': 1,\n",
       "  'layer_type': 'hidden',\n",
       "  'processing_type': 'cnn',\n",
       "  'skip_connection': 0},\n",
       " 'layer8': {'input_channels': 128,\n",
       "  'out_channels': 128,\n",
       "  'kernel_size': 3,\n",
       "  'layer_type': 'hidden',\n",
       "  'processing_type': 'cnn',\n",
       "  'skip_connection': 1},\n",
       " 'layer9': {'input_channels': 128,\n",
       "  'out_channels': 128,\n",
       "  'kernel_size': 3,\n",
       "  'layer_type': 'hidden',\n",
       "  'processing_type': 'cnn',\n",
       "  'skip_connection': 1},\n",
       " 'layer10': {'input_channels': 448,\n",
       "  'out_channels': 128,\n",
       "  'kernel_size': 1,\n",
       "  'layer_type': 'hidden',\n",
       "  'processing_type': 'cnn',\n",
       "  'skip_connection': 0},\n",
       " 'layer11': {'input_channels': 128,\n",
       "  'out_channels': 256,\n",
       "  'kernel_size': 3,\n",
       "  'layer_type': 'hidden',\n",
       "  'processing_type': 'cnn',\n",
       "  'skip_connection': 1},\n",
       " 'layer12': {'input_channels': 256,\n",
       "  'out_channels': 256,\n",
       "  'kernel_size': 3,\n",
       "  'layer_type': 'hidden',\n",
       "  'processing_type': 'cnn',\n",
       "  'skip_connection': 1},\n",
       " 'layer13': {'input_channels': 512,\n",
       "  'out_channels': 256,\n",
       "  'kernel_size': 1,\n",
       "  'layer_type': 'hidden',\n",
       "  'processing_type': 'cnn',\n",
       "  'skip_connection': 0},\n",
       " 'layer14': {'input_channels': 256,\n",
       "  'out_channels': 256,\n",
       "  'kernel_size': 3,\n",
       "  'layer_type': 'hidden',\n",
       "  'processing_type': 'cnn',\n",
       "  'skip_connection': 1},\n",
       " 'layer15': {'input_channels': 256,\n",
       "  'out_channels': 256,\n",
       "  'kernel_size': 3,\n",
       "  'layer_type': 'hidden',\n",
       "  'processing_type': 'cnn',\n",
       "  'skip_connection': 1},\n",
       " 'layer16': {'input_channels': 896,\n",
       "  'out_channels': 256,\n",
       "  'kernel_size': 1,\n",
       "  'layer_type': 'hidden',\n",
       "  'processing_type': 'cnn',\n",
       "  'skip_connection': 0},\n",
       " 'layer17': {'input_channels': 256,\n",
       "  'out_channels': 512,\n",
       "  'kernel_size': 3,\n",
       "  'layer_type': 'hidden',\n",
       "  'processing_type': 'cnn',\n",
       "  'skip_connection': 1},\n",
       " 'layer18': {'input_channels': 512,\n",
       "  'out_channels': 512,\n",
       "  'kernel_size': 3,\n",
       "  'layer_type': 'hidden',\n",
       "  'processing_type': 'cnn',\n",
       "  'skip_connection': 1},\n",
       " 'layer19': {'input_channels': 1280,\n",
       "  'out_channels': 512,\n",
       "  'kernel_size': 1,\n",
       "  'layer_type': 'hidden',\n",
       "  'processing_type': 'cnn',\n",
       "  'skip_connection': 0},\n",
       " 'layer20': {'input_channels': 512,\n",
       "  'out_channels': 512,\n",
       "  'output_size': 1,\n",
       "  'layer_type': 'hidden',\n",
       "  'processing_type': 'adaptive_avg_pooling',\n",
       "  'skip_connection': 0},\n",
       " 'layer21': {'input_features': 512,\n",
       "  'out_features': 1000,\n",
       "  'layer_type': 'output',\n",
       "  'processing_type': 'linear'}}"
      ]
     },
     "execution_count": 4,
     "metadata": {},
     "output_type": "execute_result"
    }
   ],
   "source": [
    "json_file = open('../model_json/json/dla34.json', 'r')\n",
    "json_value  = json.load(json_file)\n",
    "json_value"
   ]
  },
  {
   "cell_type": "code",
   "execution_count": 5,
   "metadata": {
    "scrolled": true
   },
   "outputs": [
    {
     "name": "stdout",
     "output_type": "stream",
     "text": [
      "[784 784 784 ... 784 784 784]\n",
      "150528\n",
      "##########################\n",
      "[288 288 288 ... 288 288 288]\n",
      "802816\n",
      "##########################\n",
      "[576 576 576 ... 576 576 576]\n",
      "1605632\n",
      "##########################\n",
      "[577 577 577 ... 577 577 577]\n",
      "3211264\n",
      "##########################\n",
      "[64 64 64 ... 64 64 64]\n",
      "6422528\n",
      "##########################\n",
      "[1153 1153 1153 ... 1153 1153 1153]\n",
      "3211264\n",
      "##########################\n",
      "[1153 1153 1153 ... 1153 1153 1153]\n",
      "6422528\n",
      "##########################\n",
      "[128 128 128 ... 128 128 128]\n",
      "12845056\n",
      "##########################\n",
      "[1153 1153 1153 ... 1153 1153 1153]\n",
      "6422528\n",
      "##########################\n",
      "[1153 1153 1153 ... 1153 1153 1153]\n",
      "6422528\n",
      "##########################\n",
      "[128 128 128 ... 128 128 128]\n",
      "22478848\n",
      "##########################\n",
      "[2305 2305 2305 ... 2305 2305 2305]\n",
      "6422528\n",
      "##########################\n",
      "[2305 2305 2305 ... 2305 2305 2305]\n",
      "12845056\n",
      "##########################\n",
      "[256 256 256 ... 256 256 256]\n",
      "25690112\n",
      "##########################\n",
      "[2305 2305 2305 ... 2305 2305 2305]\n",
      "12845056\n",
      "##########################\n",
      "[2305 2305 2305 ... 2305 2305 2305]\n",
      "12845056\n",
      "##########################\n",
      "[256 256 256 ... 256 256 256]\n",
      "44957696\n",
      "##########################\n",
      "[4609 4609 4609 ... 4609 4609 4609]\n",
      "12845056\n",
      "##########################\n",
      "[4609 4609 4609 ... 4609 4609 4609]\n",
      "25690112\n",
      "##########################\n",
      "[512 512 512 ... 512 512 512]\n",
      "64225280\n",
      "##########################\n",
      "[1 1 1 ... 1 1 1]\n",
      "25690112\n",
      "1\n",
      "##########################\n",
      "[1000 1000 1000 1000 1000 1000 1000 1000 1000 1000 1000 1000 1000 1000\n",
      " 1000 1000 1000 1000 1000 1000 1000 1000 1000 1000 1000 1000 1000 1000\n",
      " 1000 1000 1000 1000 1000 1000 1000 1000 1000 1000 1000 1000 1000 1000\n",
      " 1000 1000 1000 1000 1000 1000 1000 1000 1000 1000 1000 1000 1000 1000\n",
      " 1000 1000 1000 1000 1000 1000 1000 1000 1000 1000 1000 1000 1000 1000\n",
      " 1000 1000 1000 1000 1000 1000 1000 1000 1000 1000 1000 1000 1000 1000\n",
      " 1000 1000 1000 1000 1000 1000 1000 1000 1000 1000 1000 1000 1000 1000\n",
      " 1000 1000 1000 1000 1000 1000 1000 1000 1000 1000 1000 1000 1000 1000\n",
      " 1000 1000 1000 1000 1000 1000 1000 1000 1000 1000 1000 1000 1000 1000\n",
      " 1000 1000 1000 1000 1000 1000 1000 1000 1000 1000 1000 1000 1000 1000\n",
      " 1000 1000 1000 1000 1000 1000 1000 1000 1000 1000 1000 1000 1000 1000\n",
      " 1000 1000 1000 1000 1000 1000 1000 1000 1000 1000 1000 1000 1000 1000\n",
      " 1000 1000 1000 1000 1000 1000 1000 1000 1000 1000 1000 1000 1000 1000\n",
      " 1000 1000 1000 1000 1000 1000 1000 1000 1000 1000 1000 1000 1000 1000\n",
      " 1000 1000 1000 1000 1000 1000 1000 1000 1000 1000 1000 1000 1000 1000\n",
      " 1000 1000 1000 1000 1000 1000 1000 1000 1000 1000 1000 1000 1000 1000\n",
      " 1000 1000 1000 1000 1000 1000 1000 1000 1000 1000 1000 1000 1000 1000\n",
      " 1000 1000 1000 1000 1000 1000 1000 1000 1000 1000 1000 1000 1000 1000\n",
      " 1000 1000 1000 1000 1000 1000 1000 1000 1000 1000 1000 1000 1000 1000\n",
      " 1000 1000 1000 1000 1000 1000 1000 1000 1000 1000 1000 1000 1000 1000\n",
      " 1000 1000 1000 1000 1000 1000 1000 1000 1000 1000 1000 1000 1000 1000\n",
      " 1000 1000 1000 1000 1000 1000 1000 1000 1000 1000 1000 1000 1000 1000\n",
      " 1000 1000 1000 1000 1000 1000 1000 1000 1000 1000 1000 1000 1000 1000\n",
      " 1000 1000 1000 1000 1000 1000 1000 1000 1000 1000 1000 1000 1000 1000\n",
      " 1000 1000 1000 1000 1000 1000 1000 1000 1000 1000 1000 1000 1000 1000\n",
      " 1000 1000 1000 1000 1000 1000 1000 1000 1000 1000 1000 1000 1000 1000\n",
      " 1000 1000 1000 1000 1000 1000 1000 1000 1000 1000 1000 1000 1000 1000\n",
      " 1000 1000 1000 1000 1000 1000 1000 1000 1000 1000 1000 1000 1000 1000\n",
      " 1000 1000 1000 1000 1000 1000 1000 1000 1000 1000 1000 1000 1000 1000\n",
      " 1000 1000 1000 1000 1000 1000 1000 1000 1000 1000 1000 1000 1000 1000\n",
      " 1000 1000 1000 1000 1000 1000 1000 1000 1000 1000 1000 1000 1000 1000\n",
      " 1000 1000 1000 1000 1000 1000 1000 1000 1000 1000 1000 1000 1000 1000\n",
      " 1000 1000 1000 1000 1000 1000 1000 1000 1000 1000 1000 1000 1000 1000\n",
      " 1000 1000 1000 1000 1000 1000 1000 1000 1000 1000 1000 1000 1000 1000\n",
      " 1000 1000 1000 1000 1000 1000 1000 1000 1000 1000 1000 1000 1000 1000\n",
      " 1000 1000 1000 1000 1000 1000 1000 1000 1000 1000 1000 1000 1000 1000\n",
      " 1000 1000 1000 1000 1000 1000 1000 1000]\n",
      "512\n",
      "##########################\n"
     ]
    },
    {
     "data": {
      "text/plain": [
       "array([ 784.,  784.,  784., ..., 1000., 1000., 1000.])"
      ]
     },
     "execution_count": 5,
     "metadata": {},
     "output_type": "execute_result"
    }
   ],
   "source": [
    "#dictからlistを作成（最初からlistを作成したほうが楽だったかも）\n",
    "branch_list = np.empty(0)\n",
    "\n",
    "for i in range(len(json_value)):\n",
    "    layer_json_value = json_value[\"layer\" + str(i)]\n",
    "    \n",
    "    #input層\n",
    "    if layer_json_value[\"layer_type\"] == \"input\":\n",
    "        if layer_json_value[\"processing_type\"] == \"linear\":\n",
    "            branch_list = np.append(branch_list,linear_input_branch.get_branch(layer_json_value))\n",
    "            \n",
    "        elif layer_json_value[\"processing_type\"] == \"cnn\":\n",
    "            branch_list = np.append(branch_list,cnn_input_branch.get_branch(layer_json_value,IMG_SIZE))\n",
    "            print(cnn_input_branch.get_branch(layer_json_value,IMG_SIZE))\n",
    "            print(len(cnn_input_branch.get_branch(layer_json_value,IMG_SIZE)))\n",
    "            print(\"##########################\")\n",
    "\n",
    "            \n",
    "    #hidden層\n",
    "    if layer_json_value[\"layer_type\"] == \"hidden\":\n",
    "        if layer_json_value[\"processing_type\"] == \"linear\":\n",
    "            branch_list = np.append(branch_list,linear_hidden_branch.get_branch(layer_json_value))\n",
    "            print(linear_hidden_branch.get_branch(layer_json_value))\n",
    "            print(len(linear_hidden_branch.get_branch(layer_json_value)))\n",
    "            print(\"##########################\")\n",
    "            \n",
    "        elif layer_json_value[\"processing_type\"] == \"cnn\":\n",
    "            branch_list = np.append(branch_list,cnn_hidden_branch.get_branch(layer_json_value,IMG_SIZE))\n",
    "            print(cnn_hidden_branch.get_branch(layer_json_value,IMG_SIZE))\n",
    "            print(len(cnn_hidden_branch.get_branch(layer_json_value,IMG_SIZE)))\n",
    "            print(\"##########################\")\n",
    "\n",
    "        elif layer_json_value[\"processing_type\"] == \"max_pooling\":\n",
    "            one_layer_branch_list, IMG_SIZE = max_pooling_branch.get_branch(layer_json_value,IMG_SIZE) \n",
    "            branch_list = np.append(branch_list,one_layer_branch_list)\n",
    "            print(one_layer_branch_list)\n",
    "            print(len(one_layer_branch_list))\n",
    "            print(IMG_SIZE)\n",
    "            print(\"##########################\")\n",
    "\n",
    "        elif layer_json_value[\"processing_type\"] == \"interpolate\":\n",
    "            one_layer_branch_list, IMG_SIZE = interpolate_branch.get_branch(layer_json_value,IMG_SIZE) \n",
    "            branch_list = np.append(branch_list,one_layer_branch_list)\n",
    "            print(one_layer_branch_list)\n",
    "            print(len(one_layer_branch_list))\n",
    "            print(IMG_SIZE)\n",
    "            print(\"##########################\")\n",
    "\n",
    "        elif layer_json_value[\"processing_type\"] == \"adaptive_avg_pooling\":\n",
    "            one_layer_branch_list, IMG_SIZE = adaptive_avg_pooling_branch.get_branch(layer_json_value,IMG_SIZE) \n",
    "            branch_list = np.append(branch_list,one_layer_branch_list)\n",
    "            print(one_layer_branch_list)\n",
    "            print(len(one_layer_branch_list))\n",
    "            print(IMG_SIZE)\n",
    "            print(\"##########################\")\n",
    "\n",
    "    #output層      \n",
    "    if layer_json_value[\"layer_type\"] == \"output\":\n",
    "        if layer_json_value[\"processing_type\"] == \"linear\":\n",
    "            branch_list = np.append(branch_list,linear_output_branch.get_branch(layer_json_value))\n",
    "            print(linear_output_branch.get_branch(layer_json_value))\n",
    "            print(len(linear_output_branch.get_branch(layer_json_value)))\n",
    "            print(\"##########################\")\n",
    "        elif layer_json_value[\"processing_type\"] == \"cnn\":\n",
    "            branch_list = np.append(branch_list,cnn_output_branch.get_branch(layer_json_value,IMG_SIZE))\n",
    "            \n",
    "branch_list"
   ]
  },
  {
   "cell_type": "code",
   "execution_count": 6,
   "metadata": {},
   "outputs": [
    {
     "data": {
      "text/plain": [
       "1"
      ]
     },
     "execution_count": 6,
     "metadata": {},
     "output_type": "execute_result"
    }
   ],
   "source": [
    "IMG_SIZE"
   ]
  },
  {
   "cell_type": "code",
   "execution_count": 7,
   "metadata": {},
   "outputs": [
    {
     "data": {
      "text/plain": [
       "[1.0,\n",
       " 64.0,\n",
       " 128.0,\n",
       " 256.0,\n",
       " 288.0,\n",
       " 512.0,\n",
       " 576.0,\n",
       " 577.0,\n",
       " 784.0,\n",
       " 1000.0,\n",
       " 1153.0,\n",
       " 2305.0,\n",
       " 4609.0]"
      ]
     },
     "execution_count": 7,
     "metadata": {},
     "output_type": "execute_result"
    }
   ],
   "source": [
    "sort_set_branch_list = util_for_hist.get_sort_branch_list(branch_list)\n",
    "sort_set_branch_list"
   ]
  },
  {
   "cell_type": "code",
   "execution_count": 8,
   "metadata": {},
   "outputs": [
    {
     "data": {
      "text/plain": [
       "4609.0"
      ]
     },
     "execution_count": 8,
     "metadata": {},
     "output_type": "execute_result"
    }
   ],
   "source": [
    "max_branch = util_for_hist.get_max_set_branch(sort_set_branch_list)\n",
    "max_branch"
   ]
  },
  {
   "cell_type": "code",
   "execution_count": 9,
   "metadata": {},
   "outputs": [
    {
     "data": {
      "text/plain": [
       "32.0"
      ]
     },
     "execution_count": 9,
     "metadata": {},
     "output_type": "execute_result"
    }
   ],
   "source": [
    "min_sabun = util_for_hist.get_min_sabun(sort_set_branch_list)\n",
    "min_sabun"
   ]
  },
  {
   "cell_type": "code",
   "execution_count": 10,
   "metadata": {},
   "outputs": [
    {
     "data": {
      "text/plain": [
       "145"
      ]
     },
     "execution_count": 10,
     "metadata": {},
     "output_type": "execute_result"
    }
   ],
   "source": [
    "bins = util_for_hist.get_bin(max_branch,min_sabun)\n",
    "bins"
   ]
  },
  {
   "cell_type": "code",
   "execution_count": 11,
   "metadata": {
    "scrolled": false
   },
   "outputs": [
    {
     "data": {
      "text/plain": [
       "(array([2.5690112e+07, 0.0000000e+00, 6.4225280e+06, 0.0000000e+00,\n",
       "        3.5323904e+07, 0.0000000e+00, 0.0000000e+00, 0.0000000e+00,\n",
       "        7.0647808e+07, 8.0281600e+05, 0.0000000e+00, 0.0000000e+00,\n",
       "        0.0000000e+00, 0.0000000e+00, 0.0000000e+00, 0.0000000e+00,\n",
       "        6.4225280e+07, 0.0000000e+00, 4.8168960e+06, 0.0000000e+00,\n",
       "        0.0000000e+00, 0.0000000e+00, 0.0000000e+00, 0.0000000e+00,\n",
       "        1.5052800e+05, 0.0000000e+00, 0.0000000e+00, 0.0000000e+00,\n",
       "        0.0000000e+00, 0.0000000e+00, 0.0000000e+00, 5.1200000e+02,\n",
       "        0.0000000e+00, 0.0000000e+00, 0.0000000e+00, 0.0000000e+00,\n",
       "        2.2478848e+07, 0.0000000e+00, 0.0000000e+00, 0.0000000e+00,\n",
       "        0.0000000e+00, 0.0000000e+00, 0.0000000e+00, 0.0000000e+00,\n",
       "        0.0000000e+00, 0.0000000e+00, 0.0000000e+00, 0.0000000e+00,\n",
       "        0.0000000e+00, 0.0000000e+00, 0.0000000e+00, 0.0000000e+00,\n",
       "        0.0000000e+00, 0.0000000e+00, 0.0000000e+00, 0.0000000e+00,\n",
       "        0.0000000e+00, 0.0000000e+00, 0.0000000e+00, 0.0000000e+00,\n",
       "        0.0000000e+00, 0.0000000e+00, 0.0000000e+00, 0.0000000e+00,\n",
       "        0.0000000e+00, 0.0000000e+00, 0.0000000e+00, 0.0000000e+00,\n",
       "        0.0000000e+00, 0.0000000e+00, 0.0000000e+00, 0.0000000e+00,\n",
       "        4.4957696e+07, 0.0000000e+00, 0.0000000e+00, 0.0000000e+00,\n",
       "        0.0000000e+00, 0.0000000e+00, 0.0000000e+00, 0.0000000e+00,\n",
       "        0.0000000e+00, 0.0000000e+00, 0.0000000e+00, 0.0000000e+00,\n",
       "        0.0000000e+00, 0.0000000e+00, 0.0000000e+00, 0.0000000e+00,\n",
       "        0.0000000e+00, 0.0000000e+00, 0.0000000e+00, 0.0000000e+00,\n",
       "        0.0000000e+00, 0.0000000e+00, 0.0000000e+00, 0.0000000e+00,\n",
       "        0.0000000e+00, 0.0000000e+00, 0.0000000e+00, 0.0000000e+00,\n",
       "        0.0000000e+00, 0.0000000e+00, 0.0000000e+00, 0.0000000e+00,\n",
       "        0.0000000e+00, 0.0000000e+00, 0.0000000e+00, 0.0000000e+00,\n",
       "        0.0000000e+00, 0.0000000e+00, 0.0000000e+00, 0.0000000e+00,\n",
       "        0.0000000e+00, 0.0000000e+00, 0.0000000e+00, 0.0000000e+00,\n",
       "        0.0000000e+00, 0.0000000e+00, 0.0000000e+00, 0.0000000e+00,\n",
       "        0.0000000e+00, 0.0000000e+00, 0.0000000e+00, 0.0000000e+00,\n",
       "        0.0000000e+00, 0.0000000e+00, 0.0000000e+00, 0.0000000e+00,\n",
       "        0.0000000e+00, 0.0000000e+00, 0.0000000e+00, 0.0000000e+00,\n",
       "        0.0000000e+00, 0.0000000e+00, 0.0000000e+00, 0.0000000e+00,\n",
       "        0.0000000e+00, 0.0000000e+00, 0.0000000e+00, 0.0000000e+00,\n",
       "        0.0000000e+00, 0.0000000e+00, 0.0000000e+00, 0.0000000e+00,\n",
       "        3.8535168e+07]),\n",
       " array([   0.        ,   31.7862069 ,   63.57241379,   95.35862069,\n",
       "         127.14482759,  158.93103448,  190.71724138,  222.50344828,\n",
       "         254.28965517,  286.07586207,  317.86206897,  349.64827586,\n",
       "         381.43448276,  413.22068966,  445.00689655,  476.79310345,\n",
       "         508.57931034,  540.36551724,  572.15172414,  603.93793103,\n",
       "         635.72413793,  667.51034483,  699.29655172,  731.08275862,\n",
       "         762.86896552,  794.65517241,  826.44137931,  858.22758621,\n",
       "         890.0137931 ,  921.8       ,  953.5862069 ,  985.37241379,\n",
       "        1017.15862069, 1048.94482759, 1080.73103448, 1112.51724138,\n",
       "        1144.30344828, 1176.08965517, 1207.87586207, 1239.66206897,\n",
       "        1271.44827586, 1303.23448276, 1335.02068966, 1366.80689655,\n",
       "        1398.59310345, 1430.37931034, 1462.16551724, 1493.95172414,\n",
       "        1525.73793103, 1557.52413793, 1589.31034483, 1621.09655172,\n",
       "        1652.88275862, 1684.66896552, 1716.45517241, 1748.24137931,\n",
       "        1780.02758621, 1811.8137931 , 1843.6       , 1875.3862069 ,\n",
       "        1907.17241379, 1938.95862069, 1970.74482759, 2002.53103448,\n",
       "        2034.31724138, 2066.10344828, 2097.88965517, 2129.67586207,\n",
       "        2161.46206897, 2193.24827586, 2225.03448276, 2256.82068966,\n",
       "        2288.60689655, 2320.39310345, 2352.17931034, 2383.96551724,\n",
       "        2415.75172414, 2447.53793103, 2479.32413793, 2511.11034483,\n",
       "        2542.89655172, 2574.68275862, 2606.46896552, 2638.25517241,\n",
       "        2670.04137931, 2701.82758621, 2733.6137931 , 2765.4       ,\n",
       "        2797.1862069 , 2828.97241379, 2860.75862069, 2892.54482759,\n",
       "        2924.33103448, 2956.11724138, 2987.90344828, 3019.68965517,\n",
       "        3051.47586207, 3083.26206897, 3115.04827586, 3146.83448276,\n",
       "        3178.62068966, 3210.40689655, 3242.19310345, 3273.97931034,\n",
       "        3305.76551724, 3337.55172414, 3369.33793103, 3401.12413793,\n",
       "        3432.91034483, 3464.69655172, 3496.48275862, 3528.26896552,\n",
       "        3560.05517241, 3591.84137931, 3623.62758621, 3655.4137931 ,\n",
       "        3687.2       , 3718.9862069 , 3750.77241379, 3782.55862069,\n",
       "        3814.34482759, 3846.13103448, 3877.91724138, 3909.70344828,\n",
       "        3941.48965517, 3973.27586207, 4005.06206897, 4036.84827586,\n",
       "        4068.63448276, 4100.42068966, 4132.20689655, 4163.99310345,\n",
       "        4195.77931034, 4227.56551724, 4259.35172414, 4291.13793103,\n",
       "        4322.92413793, 4354.71034483, 4386.49655172, 4418.28275862,\n",
       "        4450.06896552, 4481.85517241, 4513.64137931, 4545.42758621,\n",
       "        4577.2137931 , 4609.        ]),\n",
       " <a list of 145 Patch objects>)"
      ]
     },
     "execution_count": 11,
     "metadata": {},
     "output_type": "execute_result"
    },
    {
     "data": {
      "image/png": "[encoded data removed]",
      "text/plain": [
       "<Figure size 432x288 with 1 Axes>"
      ]
     },
     "metadata": {
      "needs_background": "light"
     },
     "output_type": "display_data"
    }
   ],
   "source": [
    "plt.rcParams[\"xtick.direction\"] = \"in\" \n",
    "plt.rcParams[\"ytick.direction\"] = \"in\" \n",
    "plt.xlabel(\"The number of edges\")\n",
    "plt.ylabel(\"The number of nodes\")\n",
    "plt.hist(branch_list,bins=bins,range=(0,max_branch))"
   ]
  }
 ],
 "metadata": {
  "kernelspec": {
   "display_name": "Python 3",
   "language": "python",
   "name": "python3"
  },
  "language_info": {
   "codemirror_mode": {
    "name": "ipython",
    "version": 3
   },
   "file_extension": ".py",
   "mimetype": "text/x-python",
   "name": "python",
   "nbconvert_exporter": "python",
   "pygments_lexer": "ipython3",
   "version": "3.8.1"
  }
 },
 "nbformat": 4,
 "nbformat_minor": 4
}
