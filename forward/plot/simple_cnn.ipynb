{
 "cells": [
  {
   "cell_type": "code",
   "execution_count": 1,
   "metadata": {},
   "outputs": [],
   "source": [
    "import sys\n",
    "sys.path.append('../')\n",
    "sys.path.append('../get_branch/linear')\n",
    "sys.path.append('../get_branch/cnn')\n",
    "sys.path.append('../model_json/make_json_program/cnn')\n",
    "\n",
    "import json\n",
    "import numpy as np\n",
    "import matplotlib.pyplot as plt\n",
    "\n",
    "import make_simple_cnn_json\n",
    "import linear_input_branch\n",
    "import linear_hidden_branch\n",
    "import linear_output_branch\n",
    "import cnn_input_branch\n",
    "import cnn_hidden_branch\n",
    "import cnn_output_branch"
   ]
  },
  {
   "cell_type": "code",
   "execution_count": 2,
   "metadata": {},
   "outputs": [],
   "source": [
    "#画像は正方形を仮定\n",
    "IMG_SIZE = 32"
   ]
  },
  {
   "cell_type": "code",
   "execution_count": 3,
   "metadata": {},
   "outputs": [],
   "source": [
    "make_simple_cnn_json.make_json()"
   ]
  },
  {
   "cell_type": "code",
   "execution_count": 4,
   "metadata": {},
   "outputs": [
    {
     "data": {
      "text/plain": [
       "{'layer0': {'input_channels': 1,\n",
       "  'out_channels': 32,\n",
       "  'kernel_size': 3,\n",
       "  'layer_type': 'input',\n",
       "  'processing_type': 'cnn',\n",
       "  'skip_connection_flag': False},\n",
       " 'layer1': {'input_channels': 32,\n",
       "  'out_channels': 64,\n",
       "  'kernel_size': 3,\n",
       "  'layer_type': 'hidden',\n",
       "  'processing_type': 'cnn',\n",
       "  'skip_connection_flag': False},\n",
       " 'layer2': {'input_features': 9216,\n",
       "  'out_features': 128,\n",
       "  'layer_type': 'hidden',\n",
       "  'processing_type': 'linear'},\n",
       " 'layer3': {'input_features': 128,\n",
       "  'out_features': 10,\n",
       "  'layer_type': 'output',\n",
       "  'processing_type': 'linear'}}"
      ]
     },
     "execution_count": 4,
     "metadata": {},
     "output_type": "execute_result"
    }
   ],
   "source": [
    "json_file = open('../model_json/json/simple_cnn.json', 'r')\n",
    "json_value  = json.load(json_file)\n",
    "json_value"
   ]
  },
  {
   "cell_type": "code",
   "execution_count": 5,
   "metadata": {},
   "outputs": [
    {
     "data": {
      "text/plain": [
       "array([288., 288., 288., ...,  10.,  10.,  10.])"
      ]
     },
     "execution_count": 5,
     "metadata": {},
     "output_type": "execute_result"
    }
   ],
   "source": [
    "#dictからlistを作成（最初からlistを作成したほうが楽だったかも）\n",
    "branch_list = np.empty(0)\n",
    "\n",
    "for i in range(len(json_value)):\n",
    "    layer_json_value = json_value[\"layer\" + str(i)]\n",
    "    \n",
    "    #input層\n",
    "    if layer_json_value[\"layer_type\"] == \"input\":\n",
    "        if layer_json_value[\"processing_type\"] == \"linear\":\n",
    "            branch_list = np.append(branch_list,linear_input_branch.get_branch(layer_json_value))\n",
    "            \n",
    "        elif layer_json_value[\"processing_type\"] == \"cnn\":\n",
    "            branch_list = np.append(branch_list,cnn_input_branch.get_branch(layer_json_value,IMG_SIZE))\n",
    "        \n",
    "    #hidden層\n",
    "    if layer_json_value[\"layer_type\"] == \"hidden\":\n",
    "        if layer_json_value[\"processing_type\"] == \"linear\":\n",
    "            branch_list = np.append(branch_list,linear_hidden_branch.get_branch(layer_json_value))\n",
    "            \n",
    "        elif layer_json_value[\"processing_type\"] == \"cnn\":\n",
    "            branch_list = np.append(branch_list,cnn_hidden_branch.get_branch(layer_json_value,IMG_SIZE))\n",
    "    \n",
    "    #output層      \n",
    "    if layer_json_value[\"layer_type\"] == \"output\":\n",
    "        if layer_json_value[\"processing_type\"] == \"linear\":\n",
    "            branch_list = np.append(branch_list,linear_output_branch.get_branch(layer_json_value))\n",
    "            \n",
    "        elif layer_json_value[\"processing_type\"] == \"cnn\":\n",
    "            branch_list = np.append(branch_list,cnn_output_branch.get_branch(layer_json_value,IMG_SIZE))\n",
    "            \n",
    "branch_list"
   ]
  },
  {
   "cell_type": "code",
   "execution_count": 6,
   "metadata": {},
   "outputs": [
    {
     "data": {
      "text/plain": [
       "(array([  128.,     0.,  9216.,     0.,  1024.,     0.,     0.,     0.,\n",
       "            0., 32768.]),\n",
       " array([ 10. ,  66.6, 123.2, 179.8, 236.4, 293. , 349.6, 406.2, 462.8,\n",
       "        519.4, 576. ]),\n",
       " <a list of 10 Patch objects>)"
      ]
     },
     "execution_count": 6,
     "metadata": {},
     "output_type": "execute_result"
    },
    {
     "data": {
      "image/png": "[encoded data removed]",
      "text/plain": [
       "<Figure size 432x288 with 1 Axes>"
      ]
     },
     "metadata": {
      "needs_background": "light"
     },
     "output_type": "display_data"
    }
   ],
   "source": [
    "plt.hist(branch_list)"
   ]
  }
 ],
 "metadata": {
  "kernelspec": {
   "display_name": "Python 3",
   "language": "python",
   "name": "python3"
  },
  "language_info": {
   "codemirror_mode": {
    "name": "ipython",
    "version": 3
   },
   "file_extension": ".py",
   "mimetype": "text/x-python",
   "name": "python",
   "nbconvert_exporter": "python",
   "pygments_lexer": "ipython3",
   "version": "3.8.1"
  }
 },
 "nbformat": 4,
 "nbformat_minor": 4
}
