{
 "cells": [
  {
   "cell_type": "code",
   "execution_count": 1,
   "metadata": {},
   "outputs": [],
   "source": [
    "import sys\n",
    "sys.path.append('../')\n",
    "sys.path.append('../get_branch/linear')\n",
    "sys.path.append('../get_branch/cnn')\n",
    "sys.path.append('../get_branch/max_pooling')\n",
    "sys.path.append('../model_json/make_json_program/cnn')\n",
    "sys.path.append('../util')\n",
    "\n",
    "import json\n",
    "import numpy as np\n",
    "import matplotlib.pyplot as plt\n",
    "import util_for_hist\n",
    "\n",
    "import make_vgg16_json\n",
    "import linear_input_branch\n",
    "import linear_hidden_branch\n",
    "import linear_output_branch\n",
    "import cnn_input_branch\n",
    "import cnn_hidden_branch\n",
    "import cnn_output_branch\n",
    "import max_pooling_branch"
   ]
  },
  {
   "cell_type": "code",
   "execution_count": 2,
   "metadata": {},
   "outputs": [],
   "source": [
    "#画像は正方形を仮定\n",
    "IMG_SIZE = 224"
   ]
  },
  {
   "cell_type": "code",
   "execution_count": 3,
   "metadata": {},
   "outputs": [],
   "source": [
    "make_vgg16_json.make_json()"
   ]
  },
  {
   "cell_type": "code",
   "execution_count": 4,
   "metadata": {},
   "outputs": [
    {
     "data": {
      "text/plain": [
       "{'layer0': {'input_channels': 3,\n",
       "  'out_channels': 64,\n",
       "  'kernel_size': 3,\n",
       "  'layer_type': 'input',\n",
       "  'processing_type': 'cnn',\n",
       "  'skip_connection': 0},\n",
       " 'layer1': {'input_channels': 64,\n",
       "  'out_channels': 64,\n",
       "  'kernel_size': 3,\n",
       "  'layer_type': 'hidden',\n",
       "  'processing_type': 'cnn',\n",
       "  'skip_connection': 0},\n",
       " 'layer2': {'input_channels': 64,\n",
       "  'out_channels': 64,\n",
       "  'stride': 2,\n",
       "  'layer_type': 'hidden',\n",
       "  'processing_type': 'max_pooling',\n",
       "  'skip_connection': 0},\n",
       " 'layer3': {'input_channels': 64,\n",
       "  'out_channels': 128,\n",
       "  'kernel_size': 3,\n",
       "  'layer_type': 'hidden',\n",
       "  'processing_type': 'cnn',\n",
       "  'skip_connection': 0},\n",
       " 'layer4': {'input_channels': 128,\n",
       "  'out_channels': 128,\n",
       "  'kernel_size': 3,\n",
       "  'layer_type': 'hidden',\n",
       "  'processing_type': 'cnn',\n",
       "  'skip_connection': 0},\n",
       " 'layer5': {'input_channels': 128,\n",
       "  'out_channels': 128,\n",
       "  'stride': 2,\n",
       "  'layer_type': 'hidden',\n",
       "  'processing_type': 'max_pooling',\n",
       "  'skip_connection': 0},\n",
       " 'layer6': {'input_channels': 128,\n",
       "  'out_channels': 256,\n",
       "  'kernel_size': 3,\n",
       "  'layer_type': 'hidden',\n",
       "  'processing_type': 'cnn',\n",
       "  'skip_connection': 0},\n",
       " 'layer7': {'input_channels': 256,\n",
       "  'out_channels': 256,\n",
       "  'kernel_size': 3,\n",
       "  'layer_type': 'hidden',\n",
       "  'processing_type': 'cnn',\n",
       "  'skip_connection': 0},\n",
       " 'layer8': {'input_channels': 256,\n",
       "  'out_channels': 256,\n",
       "  'kernel_size': 3,\n",
       "  'layer_type': 'hidden',\n",
       "  'processing_type': 'cnn',\n",
       "  'skip_connection': 0},\n",
       " 'layer9': {'input_channels': 256,\n",
       "  'out_channels': 256,\n",
       "  'stride': 2,\n",
       "  'layer_type': 'hidden',\n",
       "  'processing_type': 'max_pooling',\n",
       "  'skip_connection': 0},\n",
       " 'layer10': {'input_channels': 256,\n",
       "  'out_channels': 512,\n",
       "  'kernel_size': 3,\n",
       "  'layer_type': 'hidden',\n",
       "  'processing_type': 'cnn',\n",
       "  'skip_connection': 0},\n",
       " 'layer11': {'input_channels': 512,\n",
       "  'out_channels': 512,\n",
       "  'kernel_size': 3,\n",
       "  'layer_type': 'hidden',\n",
       "  'processing_type': 'cnn',\n",
       "  'skip_connection': 0},\n",
       " 'layer12': {'input_channels': 512,\n",
       "  'out_channels': 512,\n",
       "  'kernel_size': 3,\n",
       "  'layer_type': 'hidden',\n",
       "  'processing_type': 'cnn',\n",
       "  'skip_connection': 0},\n",
       " 'layer13': {'input_channels': 512,\n",
       "  'out_channels': 512,\n",
       "  'stride': 2,\n",
       "  'layer_type': 'hidden',\n",
       "  'processing_type': 'max_pooling',\n",
       "  'skip_connection': 0},\n",
       " 'layer14': {'input_channels': 512,\n",
       "  'out_channels': 512,\n",
       "  'kernel_size': 3,\n",
       "  'layer_type': 'hidden',\n",
       "  'processing_type': 'cnn',\n",
       "  'skip_connection': 0},\n",
       " 'layer15': {'input_channels': 512,\n",
       "  'out_channels': 512,\n",
       "  'kernel_size': 3,\n",
       "  'layer_type': 'hidden',\n",
       "  'processing_type': 'cnn',\n",
       "  'skip_connection': 0},\n",
       " 'layer16': {'input_channels': 512,\n",
       "  'out_channels': 512,\n",
       "  'kernel_size': 3,\n",
       "  'layer_type': 'hidden',\n",
       "  'processing_type': 'cnn',\n",
       "  'skip_connection': 0},\n",
       " 'layer17': {'input_channels': 512,\n",
       "  'out_channels': 512,\n",
       "  'stride': 2,\n",
       "  'layer_type': 'hidden',\n",
       "  'processing_type': 'max_pooling',\n",
       "  'skip_connection': 0},\n",
       " 'layer18': {'input_features': 25088,\n",
       "  'out_features': 4096,\n",
       "  'layer_type': 'hidden',\n",
       "  'processing_type': 'linear'},\n",
       " 'layer19': {'input_features': 4096,\n",
       "  'out_features': 4096,\n",
       "  'layer_type': 'hidden',\n",
       "  'processing_type': 'linear'},\n",
       " 'layer20': {'input_features': 4096,\n",
       "  'out_features': 1000,\n",
       "  'layer_type': 'output',\n",
       "  'processing_type': 'linear'}}"
      ]
     },
     "execution_count": 4,
     "metadata": {},
     "output_type": "execute_result"
    }
   ],
   "source": [
    "json_file = open('../model_json/json/vgg16.json', 'r')\n",
    "json_value  = json.load(json_file)\n",
    "json_value"
   ]
  },
  {
   "cell_type": "code",
   "execution_count": 5,
   "metadata": {},
   "outputs": [
    {
     "data": {
      "text/plain": [
       "array([ 576.,  576.,  576., ..., 1000., 1000., 1000.])"
      ]
     },
     "execution_count": 5,
     "metadata": {},
     "output_type": "execute_result"
    }
   ],
   "source": [
    "#dictからlistを作成（最初からlistを作成したほうが楽だったかも）\n",
    "branch_list = np.empty(0)\n",
    "\n",
    "for i in range(len(json_value)):\n",
    "    layer_json_value = json_value[\"layer\" + str(i)]\n",
    "    \n",
    "    #input層\n",
    "    if layer_json_value[\"layer_type\"] == \"input\":\n",
    "        if layer_json_value[\"processing_type\"] == \"linear\":\n",
    "            branch_list = np.append(branch_list,linear_input_branch.get_branch(layer_json_value))\n",
    "            \n",
    "        elif layer_json_value[\"processing_type\"] == \"cnn\":\n",
    "            branch_list = np.append(branch_list,cnn_input_branch.get_branch(layer_json_value,IMG_SIZE))\n",
    "            #print(cnn_input_branch.get_branch(layer_json_value,IMG_SIZE))\n",
    "            #print(len(cnn_input_branch.get_branch(layer_json_value,IMG_SIZE)))\n",
    "            #print(\"##########################\")\n",
    "            \n",
    "    #hidden層\n",
    "    if layer_json_value[\"layer_type\"] == \"hidden\":\n",
    "        if layer_json_value[\"processing_type\"] == \"linear\":\n",
    "            branch_list = np.append(branch_list,linear_hidden_branch.get_branch(layer_json_value))\n",
    "            #print(linear_hidden_branch.get_branch(layer_json_value))\n",
    "            #print(len(linear_hidden_branch.get_branch(layer_json_value)))\n",
    "            #print(\"##########################\")\n",
    "        elif layer_json_value[\"processing_type\"] == \"cnn\":\n",
    "            branch_list = np.append(branch_list,cnn_hidden_branch.get_branch(layer_json_value,IMG_SIZE))\n",
    "            #print(cnn_hidden_branch.get_branch(layer_json_value,IMG_SIZE))\n",
    "            #print(len(cnn_hidden_branch.get_branch(layer_json_value,IMG_SIZE)))\n",
    "            #print(\"##########################\")\n",
    "        elif layer_json_value[\"processing_type\"] == \"max_pooling\":\n",
    "            one_layer_branch_list, IMG_SIZE = max_pooling_branch.get_branch(layer_json_value,IMG_SIZE) \n",
    "            branch_list = np.append(branch_list,one_layer_branch_list)\n",
    "            #print(one_layer_branch_list)\n",
    "            #print(len(one_layer_branch_list))\n",
    "            #print(IMG_SIZE)\n",
    "            #print(\"##########################\")\n",
    "            \n",
    "    #output層      \n",
    "    if layer_json_value[\"layer_type\"] == \"output\":\n",
    "        if layer_json_value[\"processing_type\"] == \"linear\":\n",
    "            branch_list = np.append(branch_list,linear_output_branch.get_branch(layer_json_value))\n",
    "            #print(linear_output_branch.get_branch(layer_json_value))\n",
    "            #print(len(linear_output_branch.get_branch(layer_json_value)))\n",
    "            #print(\"##########################\")\n",
    "        elif layer_json_value[\"processing_type\"] == \"cnn\":\n",
    "            branch_list = np.append(branch_list,cnn_output_branch.get_branch(layer_json_value,IMG_SIZE))\n",
    "            \n",
    "branch_list"
   ]
  },
  {
   "cell_type": "code",
   "execution_count": 6,
   "metadata": {},
   "outputs": [
    {
     "data": {
      "text/plain": [
       "7"
      ]
     },
     "execution_count": 6,
     "metadata": {},
     "output_type": "execute_result"
    }
   ],
   "source": [
    "IMG_SIZE"
   ]
  },
  {
   "cell_type": "code",
   "execution_count": 7,
   "metadata": {},
   "outputs": [
    {
     "data": {
      "text/plain": [
       "[1.0, 576.0, 1000.0, 1152.0, 2304.0, 4096.0, 4608.0]"
      ]
     },
     "execution_count": 7,
     "metadata": {},
     "output_type": "execute_result"
    }
   ],
   "source": [
    "sort_set_branch_list = util_for_hist.get_sort_branch_list(branch_list)\n",
    "sort_set_branch_list"
   ]
  },
  {
   "cell_type": "code",
   "execution_count": 8,
   "metadata": {},
   "outputs": [
    {
     "data": {
      "text/plain": [
       "4608.0"
      ]
     },
     "execution_count": 8,
     "metadata": {},
     "output_type": "execute_result"
    }
   ],
   "source": [
    "max_branch = util_for_hist.get_max_set_branch(sort_set_branch_list)\n",
    "max_branch"
   ]
  },
  {
   "cell_type": "code",
   "execution_count": 9,
   "metadata": {},
   "outputs": [
    {
     "data": {
      "text/plain": [
       "152.0"
      ]
     },
     "execution_count": 9,
     "metadata": {},
     "output_type": "execute_result"
    }
   ],
   "source": [
    "min_sabun = util_for_hist.get_min_sabun(sort_set_branch_list)\n",
    "min_sabun"
   ]
  },
  {
   "cell_type": "code",
   "execution_count": 10,
   "metadata": {},
   "outputs": [
    {
     "data": {
      "text/plain": [
       "31"
      ]
     },
     "execution_count": 10,
     "metadata": {},
     "output_type": "execute_result"
    }
   ],
   "source": [
    "bins = util_for_hist.get_bin(max_branch,min_sabun)\n",
    "bins"
   ]
  },
  {
   "cell_type": "code",
   "execution_count": 11,
   "metadata": {},
   "outputs": [
    {
     "data": {
      "text/plain": [
       "(array([6.121472e+06, 0.000000e+00, 0.000000e+00, 3.361792e+06,\n",
       "        0.000000e+00, 0.000000e+00, 4.096000e+03, 2.408448e+06,\n",
       "        0.000000e+00, 0.000000e+00, 0.000000e+00, 0.000000e+00,\n",
       "        0.000000e+00, 0.000000e+00, 0.000000e+00, 2.007040e+06,\n",
       "        0.000000e+00, 0.000000e+00, 0.000000e+00, 0.000000e+00,\n",
       "        0.000000e+00, 0.000000e+00, 0.000000e+00, 0.000000e+00,\n",
       "        0.000000e+00, 0.000000e+00, 0.000000e+00, 2.918400e+04,\n",
       "        0.000000e+00, 0.000000e+00, 1.304576e+06]),\n",
       " array([   0.        ,  148.64516129,  297.29032258,  445.93548387,\n",
       "         594.58064516,  743.22580645,  891.87096774, 1040.51612903,\n",
       "        1189.16129032, 1337.80645161, 1486.4516129 , 1635.09677419,\n",
       "        1783.74193548, 1932.38709677, 2081.03225806, 2229.67741935,\n",
       "        2378.32258065, 2526.96774194, 2675.61290323, 2824.25806452,\n",
       "        2972.90322581, 3121.5483871 , 3270.19354839, 3418.83870968,\n",
       "        3567.48387097, 3716.12903226, 3864.77419355, 4013.41935484,\n",
       "        4162.06451613, 4310.70967742, 4459.35483871, 4608.        ]),\n",
       " <a list of 31 Patch objects>)"
      ]
     },
     "execution_count": 11,
     "metadata": {},
     "output_type": "execute_result"
    },
    {
     "data": {
      "image/png": "[encoded data removed]",
      "text/plain": [
       "<Figure size 432x288 with 1 Axes>"
      ]
     },
     "metadata": {
      "needs_background": "light"
     },
     "output_type": "display_data"
    }
   ],
   "source": [
    "plt.rcParams[\"xtick.direction\"] = \"in\" \n",
    "plt.rcParams[\"ytick.direction\"] = \"in\" \n",
    "plt.xlabel(\"The number of edges\")\n",
    "plt.ylabel(\"The number of nodes\")\n",
    "plt.hist(branch_list,bins=bins,range=(0,max_branch))"
   ]
  }
 ],
 "metadata": {
  "kernelspec": {
   "display_name": "Python 3",
   "language": "python",
   "name": "python3"
  },
  "language_info": {
   "codemirror_mode": {
    "name": "ipython",
    "version": 3
   },
   "file_extension": ".py",
   "mimetype": "text/x-python",
   "name": "python",
   "nbconvert_exporter": "python",
   "pygments_lexer": "ipython3",
   "version": "3.8.1"
  }
 },
 "nbformat": 4,
 "nbformat_minor": 4
}
