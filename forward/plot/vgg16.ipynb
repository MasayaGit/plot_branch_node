{
 "cells": [
  {
   "cell_type": "code",
   "execution_count": 1,
   "metadata": {},
   "outputs": [],
   "source": [
    "import sys\n",
    "sys.path.append('../')\n",
    "sys.path.append('../get_branch/linear')\n",
    "sys.path.append('../get_branch/cnn')\n",
    "sys.path.append('../get_branch/max_pooling')\n",
    "sys.path.append('../model_json/make_json_program/cnn')\n",
    "\n",
    "import json\n",
    "import numpy as np\n",
    "import matplotlib.pyplot as plt\n",
    "\n",
    "import make_vgg16_json\n",
    "import linear_input_branch\n",
    "import linear_hidden_branch\n",
    "import linear_output_branch\n",
    "import cnn_input_branch\n",
    "import cnn_hidden_branch\n",
    "import cnn_output_branch\n",
    "import max_pooling_branch"
   ]
  },
  {
   "cell_type": "code",
   "execution_count": 2,
   "metadata": {},
   "outputs": [],
   "source": [
    "#画像は正方形を仮定\n",
    "IMG_SIZE = 224"
   ]
  },
  {
   "cell_type": "code",
   "execution_count": 3,
   "metadata": {},
   "outputs": [],
   "source": [
    "make_vgg16_json.make_json()"
   ]
  },
  {
   "cell_type": "code",
   "execution_count": 4,
   "metadata": {},
   "outputs": [
    {
     "data": {
      "text/plain": [
       "{'layer0': {'input_channels': 3,\n",
       "  'out_channels': 64,\n",
       "  'kernel_size': 3,\n",
       "  'layer_type': 'input',\n",
       "  'processing_type': 'cnn',\n",
       "  'skip_connection_flag': False},\n",
       " 'layer1': {'input_channels': 64,\n",
       "  'out_channels': 64,\n",
       "  'kernel_size': 3,\n",
       "  'layer_type': 'hidden',\n",
       "  'processing_type': 'cnn',\n",
       "  'skip_connection_flag': False},\n",
       " 'layer2': {'input_channels': 64,\n",
       "  'out_channels': 64,\n",
       "  'stride': 2,\n",
       "  'layer_type': 'hidden',\n",
       "  'processing_type': 'max_pooling',\n",
       "  'skip_connection_flag': False},\n",
       " 'layer3': {'input_channels': 64,\n",
       "  'out_channels': 128,\n",
       "  'kernel_size': 3,\n",
       "  'layer_type': 'hidden',\n",
       "  'processing_type': 'cnn',\n",
       "  'skip_connection_flag': False},\n",
       " 'layer4': {'input_channels': 128,\n",
       "  'out_channels': 128,\n",
       "  'kernel_size': 3,\n",
       "  'layer_type': 'hidden',\n",
       "  'processing_type': 'cnn',\n",
       "  'skip_connection_flag': False},\n",
       " 'layer5': {'input_channels': 128,\n",
       "  'out_channels': 128,\n",
       "  'stride': 2,\n",
       "  'layer_type': 'hidden',\n",
       "  'processing_type': 'max_pooling',\n",
       "  'skip_connection_flag': False},\n",
       " 'layer6': {'input_channels': 128,\n",
       "  'out_channels': 256,\n",
       "  'kernel_size': 3,\n",
       "  'layer_type': 'hidden',\n",
       "  'processing_type': 'cnn',\n",
       "  'skip_connection_flag': False},\n",
       " 'layer7': {'input_channels': 256,\n",
       "  'out_channels': 256,\n",
       "  'kernel_size': 3,\n",
       "  'layer_type': 'hidden',\n",
       "  'processing_type': 'cnn',\n",
       "  'skip_connection_flag': False},\n",
       " 'layer8': {'input_channels': 256,\n",
       "  'out_channels': 256,\n",
       "  'kernel_size': 3,\n",
       "  'layer_type': 'hidden',\n",
       "  'processing_type': 'cnn',\n",
       "  'skip_connection_flag': False},\n",
       " 'layer9': {'input_channels': 256,\n",
       "  'out_channels': 256,\n",
       "  'stride': 2,\n",
       "  'layer_type': 'hidden',\n",
       "  'processing_type': 'max_pooling',\n",
       "  'skip_connection_flag': False},\n",
       " 'layer10': {'input_channels': 256,\n",
       "  'out_channels': 512,\n",
       "  'kernel_size': 3,\n",
       "  'layer_type': 'hidden',\n",
       "  'processing_type': 'cnn',\n",
       "  'skip_connection_flag': False},\n",
       " 'layer11': {'input_channels': 512,\n",
       "  'out_channels': 512,\n",
       "  'kernel_size': 3,\n",
       "  'layer_type': 'hidden',\n",
       "  'processing_type': 'cnn',\n",
       "  'skip_connection_flag': False},\n",
       " 'layer12': {'input_channels': 512,\n",
       "  'out_channels': 512,\n",
       "  'kernel_size': 3,\n",
       "  'layer_type': 'hidden',\n",
       "  'processing_type': 'cnn',\n",
       "  'skip_connection_flag': False},\n",
       " 'layer13': {'input_channels': 512,\n",
       "  'out_channels': 512,\n",
       "  'stride': 2,\n",
       "  'layer_type': 'hidden',\n",
       "  'processing_type': 'max_pooling',\n",
       "  'skip_connection_flag': False},\n",
       " 'layer14': {'input_channels': 512,\n",
       "  'out_channels': 512,\n",
       "  'kernel_size': 3,\n",
       "  'layer_type': 'hidden',\n",
       "  'processing_type': 'cnn',\n",
       "  'skip_connection_flag': False},\n",
       " 'layer15': {'input_channels': 512,\n",
       "  'out_channels': 512,\n",
       "  'kernel_size': 3,\n",
       "  'layer_type': 'hidden',\n",
       "  'processing_type': 'cnn',\n",
       "  'skip_connection_flag': False},\n",
       " 'layer16': {'input_channels': 512,\n",
       "  'out_channels': 512,\n",
       "  'kernel_size': 3,\n",
       "  'layer_type': 'hidden',\n",
       "  'processing_type': 'cnn',\n",
       "  'skip_connection_flag': False},\n",
       " 'layer17': {'input_channels': 512,\n",
       "  'out_channels': 512,\n",
       "  'stride': 2,\n",
       "  'layer_type': 'hidden',\n",
       "  'processing_type': 'max_pooling',\n",
       "  'skip_connection_flag': False},\n",
       " 'layer18': {'input_features': 25088,\n",
       "  'out_features': 4096,\n",
       "  'layer_type': 'hidden',\n",
       "  'processing_type': 'linear'},\n",
       " 'layer19': {'input_features': 4096,\n",
       "  'out_features': 4096,\n",
       "  'layer_type': 'hidden',\n",
       "  'processing_type': 'linear'},\n",
       " 'layer20': {'input_features': 4096,\n",
       "  'out_features': 1000,\n",
       "  'layer_type': 'output',\n",
       "  'processing_type': 'linear'}}"
      ]
     },
     "execution_count": 4,
     "metadata": {},
     "output_type": "execute_result"
    }
   ],
   "source": [
    "json_file = open('../model_json/json/vgg16.json', 'r')\n",
    "json_value  = json.load(json_file)\n",
    "json_value"
   ]
  },
  {
   "cell_type": "code",
   "execution_count": 5,
   "metadata": {},
   "outputs": [
    {
     "data": {
      "text/plain": [
       "array([ 576.,  576.,  576., ..., 1000., 1000., 1000.])"
      ]
     },
     "execution_count": 5,
     "metadata": {},
     "output_type": "execute_result"
    }
   ],
   "source": [
    "#dictからlistを作成（最初からlistを作成したほうが楽だったかも）\n",
    "branch_list = np.empty(0)\n",
    "\n",
    "for i in range(len(json_value)):\n",
    "    layer_json_value = json_value[\"layer\" + str(i)]\n",
    "    \n",
    "    #input層\n",
    "    if layer_json_value[\"layer_type\"] == \"input\":\n",
    "        if layer_json_value[\"processing_type\"] == \"linear\":\n",
    "            branch_list = np.append(branch_list,linear_input_branch.get_branch(layer_json_value))\n",
    "            \n",
    "        elif layer_json_value[\"processing_type\"] == \"cnn\":\n",
    "            branch_list = np.append(branch_list,cnn_input_branch.get_branch(layer_json_value,IMG_SIZE))\n",
    "            #print(cnn_input_branch.get_branch(layer_json_value,IMG_SIZE))\n",
    "            #print(len(cnn_input_branch.get_branch(layer_json_value,IMG_SIZE)))\n",
    "            #print(\"##########################\")\n",
    "            \n",
    "    #hidden層\n",
    "    if layer_json_value[\"layer_type\"] == \"hidden\":\n",
    "        if layer_json_value[\"processing_type\"] == \"linear\":\n",
    "            branch_list = np.append(branch_list,linear_hidden_branch.get_branch(layer_json_value))\n",
    "            #print(linear_hidden_branch.get_branch(layer_json_value))\n",
    "            #print(len(linear_hidden_branch.get_branch(layer_json_value)))\n",
    "            #print(\"##########################\")\n",
    "        elif layer_json_value[\"processing_type\"] == \"cnn\":\n",
    "            branch_list = np.append(branch_list,cnn_hidden_branch.get_branch(layer_json_value,IMG_SIZE))\n",
    "            #print(cnn_hidden_branch.get_branch(layer_json_value,IMG_SIZE))\n",
    "            #print(len(cnn_hidden_branch.get_branch(layer_json_value,IMG_SIZE)))\n",
    "            #print(\"##########################\")\n",
    "        elif layer_json_value[\"processing_type\"] == \"max_pooling\":\n",
    "            one_layer_branch_list, IMG_SIZE = max_pooling_branch.get_branch(layer_json_value,IMG_SIZE) \n",
    "            branch_list = np.append(branch_list,one_layer_branch_list)\n",
    "            #print(one_layer_branch_list)\n",
    "            #print(len(one_layer_branch_list))\n",
    "            #print(IMG_SIZE)\n",
    "            #print(\"##########################\")\n",
    "            \n",
    "    #output層      \n",
    "    if layer_json_value[\"layer_type\"] == \"output\":\n",
    "        if layer_json_value[\"processing_type\"] == \"linear\":\n",
    "            branch_list = np.append(branch_list,linear_output_branch.get_branch(layer_json_value))\n",
    "            #print(linear_output_branch.get_branch(layer_json_value))\n",
    "            #print(len(linear_output_branch.get_branch(layer_json_value)))\n",
    "            #print(\"##########################\")\n",
    "        elif layer_json_value[\"processing_type\"] == \"cnn\":\n",
    "            branch_list = np.append(branch_list,cnn_output_branch.get_branch(layer_json_value,IMG_SIZE))\n",
    "            \n",
    "branch_list"
   ]
  },
  {
   "cell_type": "code",
   "execution_count": 6,
   "metadata": {},
   "outputs": [
    {
     "data": {
      "text/plain": [
       "7"
      ]
     },
     "execution_count": 6,
     "metadata": {},
     "output_type": "execute_result"
    }
   ],
   "source": [
    "IMG_SIZE"
   ]
  },
  {
   "cell_type": "code",
   "execution_count": 7,
   "metadata": {},
   "outputs": [
    {
     "data": {
      "text/plain": [
       "(array([6121472., 3361792., 2412544.,       0., 2007040.,       0.,\n",
       "              0.,       0.,   29184., 1304576.]),\n",
       " array([1.0000e+00, 4.6170e+02, 9.2240e+02, 1.3831e+03, 1.8438e+03,\n",
       "        2.3045e+03, 2.7652e+03, 3.2259e+03, 3.6866e+03, 4.1473e+03,\n",
       "        4.6080e+03]),\n",
       " <a list of 10 Patch objects>)"
      ]
     },
     "execution_count": 7,
     "metadata": {},
     "output_type": "execute_result"
    },
    {
     "data": {
      "image/png": "[encoded data removed]",
      "text/plain": [
       "<Figure size 432x288 with 1 Axes>"
      ]
     },
     "metadata": {
      "needs_background": "light"
     },
     "output_type": "display_data"
    }
   ],
   "source": [
    "plt.hist(branch_list)"
   ]
  }
 ],
 "metadata": {
  "kernelspec": {
   "display_name": "Python 3",
   "language": "python",
   "name": "python3"
  },
  "language_info": {
   "codemirror_mode": {
    "name": "ipython",
    "version": 3
   },
   "file_extension": ".py",
   "mimetype": "text/x-python",
   "name": "python",
   "nbconvert_exporter": "python",
   "pygments_lexer": "ipython3",
   "version": "3.8.1"
  }
 },
 "nbformat": 4,
 "nbformat_minor": 4
}
