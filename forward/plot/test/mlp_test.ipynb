{
 "cells": [
  {
   "cell_type": "code",
   "execution_count": 1,
   "metadata": {},
   "outputs": [],
   "source": [
    "import sys\n",
    "sys.path.append('../../')\n",
    "sys.path.append('../../get_branch/linear')\n",
    "sys.path.append('../../model_json/make_json_program/linear/test')\n",
    "\n",
    "import json\n",
    "import numpy as np\n",
    "import matplotlib.pyplot as plt\n",
    "\n",
    "import make_mlp_test_json\n",
    "import linear_input_branch\n",
    "import linear_hidden_branch\n",
    "import linear_output_branch"
   ]
  },
  {
   "cell_type": "code",
   "execution_count": 2,
   "metadata": {},
   "outputs": [
    {
     "name": "stdout",
     "output_type": "stream",
     "text": [
      "/Users/info/Desktop/lab/program/plot_branch_node/forward/plot/test\r\n"
     ]
    }
   ],
   "source": [
    "!pwd"
   ]
  },
  {
   "cell_type": "code",
   "execution_count": 3,
   "metadata": {},
   "outputs": [],
   "source": [
    "make_mlp_test_json.make_json()"
   ]
  },
  {
   "cell_type": "code",
   "execution_count": 4,
   "metadata": {},
   "outputs": [
    {
     "data": {
      "text/plain": [
       "{'layer0': {'input_features': 4,\n",
       "  'out_features': 2,\n",
       "  'layer_type': 'input',\n",
       "  'processing_type': 'linear'},\n",
       " 'layer1': {'input_features': 2,\n",
       "  'out_features': 3,\n",
       "  'layer_type': 'output',\n",
       "  'processing_type': 'linear'}}"
      ]
     },
     "execution_count": 4,
     "metadata": {},
     "output_type": "execute_result"
    }
   ],
   "source": [
    "json_file = open('../../model_json/json/mlp_test.json', 'r')\n",
    "json_value  = json.load(json_file)\n",
    "json_value"
   ]
  },
  {
   "cell_type": "code",
   "execution_count": 5,
   "metadata": {},
   "outputs": [
    {
     "data": {
      "text/plain": [
       "array([2., 2., 2., 2., 3., 3.])"
      ]
     },
     "execution_count": 5,
     "metadata": {},
     "output_type": "execute_result"
    }
   ],
   "source": [
    "#dictからlistを作成（最初からlistを作成したほうが楽だったかも）\n",
    "branch_list = np.empty(0)\n",
    "\n",
    "for i in range(len(json_value)):\n",
    "    layer_json_value = json_value[\"layer\" + str(i)]\n",
    "    \n",
    "    if layer_json_value[\"layer_type\"] == \"input\":\n",
    "        if layer_json_value[\"processing_type\"] == \"linear\":\n",
    "            branch_list = np.append(branch_list,linear_input_branch.get_branch(layer_json_value))\n",
    "        \n",
    "    if layer_json_value[\"layer_type\"] == \"hidden\":\n",
    "        if layer_json_value[\"processing_type\"] == \"linear\":\n",
    "            branch_list = np.append(branch_list,linear_hidden_branch.get_branch(layer_json_value))\n",
    "\n",
    "    if layer_json_value[\"layer_type\"] == \"output\":\n",
    "        if layer_json_value[\"processing_type\"] == \"linear\":\n",
    "            branch_list = np.append(branch_list,linear_output_branch.get_branch(layer_json_value))\n",
    "branch_list"
   ]
  },
  {
   "cell_type": "code",
   "execution_count": 6,
   "metadata": {},
   "outputs": [
    {
     "data": {
      "text/plain": [
       "(array([4., 0., 0., 0., 0., 0., 0., 0., 0., 2.]),\n",
       " array([2. , 2.1, 2.2, 2.3, 2.4, 2.5, 2.6, 2.7, 2.8, 2.9, 3. ]),\n",
       " <a list of 10 Patch objects>)"
      ]
     },
     "execution_count": 6,
     "metadata": {},
     "output_type": "execute_result"
    },
    {
     "data": {
      "image/png": "[encoded data removed]",
      "text/plain": [
       "<Figure size 432x288 with 1 Axes>"
      ]
     },
     "metadata": {
      "needs_background": "light"
     },
     "output_type": "display_data"
    }
   ],
   "source": [
    "plt.hist(branch_list)"
   ]
  },
  {
   "cell_type": "code",
   "execution_count": null,
   "metadata": {},
   "outputs": [],
   "source": []
  }
 ],
 "metadata": {
  "kernelspec": {
   "display_name": "Python 3",
   "language": "python",
   "name": "python3"
  },
  "language_info": {
   "codemirror_mode": {
    "name": "ipython",
    "version": 3
   },
   "file_extension": ".py",
   "mimetype": "text/x-python",
   "name": "python",
   "nbconvert_exporter": "python",
   "pygments_lexer": "ipython3",
   "version": "3.8.1"
  }
 },
 "nbformat": 4,
 "nbformat_minor": 4
}
