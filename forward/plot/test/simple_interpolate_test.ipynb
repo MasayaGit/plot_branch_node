{
 "cells": [
  {
   "cell_type": "code",
   "execution_count": 1,
   "metadata": {},
   "outputs": [],
   "source": [
    "import sys\n",
    "sys.path.append('../../')\n",
    "sys.path.append('../../get_branch/linear')\n",
    "sys.path.append('../../get_branch/cnn')\n",
    "sys.path.append('../../get_branch/max_pooling')\n",
    "sys.path.append('../../get_branch/interpolate')\n",
    "sys.path.append('../../get_branch/adaptive_avg_pooling')\n",
    "sys.path.append('../../model_json/make_json_program/cnn/test')\n",
    "\n",
    "import json\n",
    "import numpy as np\n",
    "import matplotlib.pyplot as plt\n",
    "\n",
    "import make_simple_interpolate_test\n",
    "import linear_input_branch\n",
    "import linear_hidden_branch\n",
    "import linear_output_branch\n",
    "import cnn_input_branch\n",
    "import cnn_hidden_branch\n",
    "import cnn_output_branch\n",
    "import max_pooling_branch\n",
    "import interpolate_branch\n",
    "import adaptive_avg_pooling_branch"
   ]
  },
  {
   "cell_type": "code",
   "execution_count": 2,
   "metadata": {},
   "outputs": [],
   "source": [
    "#画像は正方形を仮定\n",
    "IMG_SIZE = 5"
   ]
  },
  {
   "cell_type": "code",
   "execution_count": 3,
   "metadata": {},
   "outputs": [],
   "source": [
    "make_simple_interpolate_test.make_json()"
   ]
  },
  {
   "cell_type": "code",
   "execution_count": 4,
   "metadata": {},
   "outputs": [
    {
     "data": {
      "text/plain": [
       "{'layer0': {'input_channels': 3,\n",
       "  'out_channels': 5,\n",
       "  'kernel_size': 3,\n",
       "  'layer_type': 'input',\n",
       "  'processing_type': 'cnn',\n",
       "  'skip_connection': 3},\n",
       " 'layer1': {'input_channels': 5,\n",
       "  'out_channels': 5,\n",
       "  'scale_factor': 2,\n",
       "  'layer_type': 'hidden',\n",
       "  'processing_type': 'interpolate',\n",
       "  'skip_connection': 0},\n",
       " 'layer2': {'input_channels': 5,\n",
       "  'out_channels': 7,\n",
       "  'kernel_size': 2,\n",
       "  'layer_type': 'hidden',\n",
       "  'processing_type': 'cnn',\n",
       "  'skip_connection': 1},\n",
       " 'layer3': {'input_channels': 7,\n",
       "  'out_channels': 7,\n",
       "  'stride': 3,\n",
       "  'layer_type': 'hidden',\n",
       "  'processing_type': 'max_pooling',\n",
       "  'skip_connection': 0},\n",
       " 'layer4': {'input_features': 112,\n",
       "  'out_features': 4,\n",
       "  'layer_type': 'hidden',\n",
       "  'processing_type': 'linear'},\n",
       " 'layer5': {'input_features': 4,\n",
       "  'out_features': 2,\n",
       "  'layer_type': 'output',\n",
       "  'processing_type': 'linear'}}"
      ]
     },
     "execution_count": 4,
     "metadata": {},
     "output_type": "execute_result"
    }
   ],
   "source": [
    "json_file = open('../../model_json/json/simple_interpolate_test.json', 'r')\n",
    "json_value  = json.load(json_file)\n",
    "json_value"
   ]
  },
  {
   "cell_type": "code",
   "execution_count": 5,
   "metadata": {},
   "outputs": [
    {
     "name": "stdout",
     "output_type": "stream",
     "text": [
      "[48 48 48 48 48 48 48 48 48 48 48 48 48 48 48 48 48 48 48 48 48 48 48 48\n",
      " 48 48 48 48 48 48 48 48 48 48 48 48 48 48 48 48 48 48 48 48 48 48 48 48\n",
      " 48 48 48 48 48 48 48 48 48 48 48 48 48 48 48 48 48 48 48 48 48 48 48 48\n",
      " 48 48 48]\n",
      "75\n",
      "##########################\n",
      "[4 4 4 4 4 4 4 4 4 4 4 4 4 4 4 4 4 4 4 4 4 4 4 4 4 4 4 4 4 4 4 4 4 4 4 4 4\n",
      " 4 4 4 4 4 4 4 4 4 4 4 4 4 4 4 4 4 4 4 4 4 4 4 4 4 4 4 4 4 4 4 4 4 4 4 4 4\n",
      " 4 4 4 4 4 4 4 4 4 4 4 4 4 4 4 4 4 4 4 4 4 4 4 4 4 4 4 4 4 4 4 4 4 4 4 4 4\n",
      " 4 4 4 4 4 4 4 4 4 4 4 4 4 4]\n",
      "125\n",
      "10\n",
      "##########################\n",
      "[29 29 29 29 29 29 29 29 29 29 29 29 29 29 29 29 29 29 29 29 29 29 29 29\n",
      " 29 29 29 29 29 29 29 29 29 29 29 29 29 29 29 29 29 29 29 29 29 29 29 29\n",
      " 29 29 29 29 29 29 29 29 29 29 29 29 29 29 29 29 29 29 29 29 29 29 29 29\n",
      " 29 29 29 29 29 29 29 29 29 29 29 29 29 29 29 29 29 29 29 29 29 29 29 29\n",
      " 29 29 29 29 29 29 29 29 29 29 29 29 29 29 29 29 29 29 29 29 29 29 29 29\n",
      " 29 29 29 29 29 29 29 29 29 29 29 29 29 29 29 29 29 29 29 29 29 29 29 29\n",
      " 29 29 29 29 29 29 29 29 29 29 29 29 29 29 29 29 29 29 29 29 29 29 29 29\n",
      " 29 29 29 29 29 29 29 29 29 29 29 29 29 29 29 29 29 29 29 29 29 29 29 29\n",
      " 29 29 29 29 29 29 29 29 29 29 29 29 29 29 29 29 29 29 29 29 29 29 29 29\n",
      " 29 29 29 29 29 29 29 29 29 29 29 29 29 29 29 29 29 29 29 29 29 29 29 29\n",
      " 29 29 29 29 29 29 29 29 29 29 29 29 29 29 29 29 29 29 29 29 29 29 29 29\n",
      " 29 29 29 29 29 29 29 29 29 29 29 29 29 29 29 29 29 29 29 29 29 29 29 29\n",
      " 29 29 29 29 29 29 29 29 29 29 29 29 29 29 29 29 29 29 29 29 29 29 29 29\n",
      " 29 29 29 29 29 29 29 29 29 29 29 29 29 29 29 29 29 29 29 29 29 29 29 29\n",
      " 29 29 29 29 29 29 29 29 29 29 29 29 29 29 29 29 29 29 29 29 29 29 29 29\n",
      " 29 29 29 29 29 29 29 29 29 29 29 29 29 29 29 29 29 29 29 29 29 29 29 29\n",
      " 29 29 29 29 29 29 29 29 29 29 29 29 29 29 29 29 29 29 29 29 29 29 29 29\n",
      " 29 29 29 29 29 29 29 29 29 29 29 29 29 29 29 29 29 29 29 29 29 29 29 29\n",
      " 29 29 29 29 29 29 29 29 29 29 29 29 29 29 29 29 29 29 29 29 29 29 29 29\n",
      " 29 29 29 29 29 29 29 29 29 29 29 29 29 29 29 29 29 29 29 29 29 29 29 29\n",
      " 29 29 29 29 29 29 29 29 29 29 29 29 29 29 29 29 29 29 29 29]\n",
      "500\n",
      "##########################\n",
      "[1 1 1 1 1 1 1 1 1 1 1 1 1 1 1 1 1 1 1 1 1 1 1 1 1 1 1 1 1 1 1 1 1 1 1 1 1\n",
      " 1 1 1 1 1 1 1 1 1 1 1 1 1 1 1 1 1 1 1 1 1 1 1 1 1 1 1 1 1 1 1 1 1 1 1 1 1\n",
      " 1 1 1 1 1 1 1 1 1 1 1 1 1 1 1 1 1 1 1 1 1 1 1 1 1 1 1 1 1 1 1 1 1 1 1 1 1\n",
      " 1 1 1 1 1 1 1 1 1 1 1 1 1 1 1 1 1 1 1 1 1 1 1 1 1 1 1 1 1 1 1 1 1 1 1 1 1\n",
      " 1 1 1 1 1 1 1 1 1 1 1 1 1 1 1 1 1 1 1 1 1 1 1 1 1 1 1 1 1 1 1 1 1 1 1 1 1\n",
      " 1 1 1 1 1 1 1 1 1 1 1 1 1 1 1 1 1 1 1 1 1 1 1 1 1 1 1 1 1 1 1 1 1 1 1 1 1\n",
      " 1 1 1 1 1 1 1 1 1 1 1 1 1 1 1 1 1 1 1 1 1 1 1 1 1 1 1 1 1 1 1 1 1 1 1 1 1\n",
      " 1 1 1 1 1 1 1 1 1 1 1 1 1 1 1 1 1 1 1 1 1 1 1 1 1 1 1 1 1 1 1 1 1 1 1 1 1\n",
      " 1 1 1 1 1 1 1 1 1 1 1 1 1 1 1 1 1 1 1 1 1 1 1 1 1 1 1 1 1 1 1 1 1 1 1 1 1\n",
      " 1 1 1 1 1 1 1 1 1 1 1 1 1 1 1 1 1 1 1 1 1 1 1 1 1 1 1 1 1 1 1 1 1 1 1 1 1\n",
      " 1 1 1 1 1 1 1 1 1 1 1 1 1 1 1 1 1 1 1 1 1 1 1 1 1 1 1 1 1 1 1 1 1 1 1 1 1\n",
      " 1 1 1 1 1 1 1 1 1 1 1 1 1 1 1 1 1 1 1 1 1 1 1 1 1 1 1 1 1 1 1 1 1 1 1 1 1\n",
      " 1 1 1 1 1 1 1 1 1 1 1 1 1 1 1 1 1 1 1 1 1 1 1 1 1 1 1 1 1 1 1 1 1 1 1 1 1\n",
      " 1 1 1 1 1 1 1 1 1 1 1 1 1 1 1 1 1 1 1 1 1 1 1 1 1 1 1 1 1 1 1 1 1 1 1 1 1\n",
      " 1 1 1 1 1 1 1 1 1 1 1 1 1 1 1 1 1 1 1 1 1 1 1 1 1 1 1 1 1 1 1 1 1 1 1 1 1\n",
      " 1 1 1 1 1 1 1 1 1 1 1 1 1 1 1 1 1 1 1 1 1 1 1 1 1 1 1 1 1 1 1 1 1 1 1 1 1\n",
      " 1 1 1 1 1 1 1 1 1 1 1 1 1 1 1 1 1 1 1 1 1 1 1 1 1 1 1 1 1 1 1 1 1 1 1 1 1\n",
      " 1 1 1 1 1 1 1 1 1 1 1 1 1 1 1 1 1 1 1 1 1 1 1 1 1 1 1 1 1 1 1 1 1 1 1 1 1\n",
      " 1 1 1 1 1 1 1 1 1 1 1 1 1 1 1 1 1 1 1 1 1 1 1 1 1 1 1 1 1 1 1 1 1 1]\n",
      "700\n",
      "4\n",
      "##########################\n",
      "[4 4 4 4 4 4 4 4 4 4 4 4 4 4 4 4 4 4 4 4 4 4 4 4 4 4 4 4 4 4 4 4 4 4 4 4 4\n",
      " 4 4 4 4 4 4 4 4 4 4 4 4 4 4 4 4 4 4 4 4 4 4 4 4 4 4 4 4 4 4 4 4 4 4 4 4 4\n",
      " 4 4 4 4 4 4 4 4 4 4 4 4 4 4 4 4 4 4 4 4 4 4 4 4 4 4 4 4 4 4 4 4 4 4 4 4 4\n",
      " 4]\n",
      "112\n",
      "##########################\n",
      "[2 2 2 2]\n",
      "4\n",
      "##########################\n"
     ]
    },
    {
     "data": {
      "text/plain": [
       "array([48., 48., 48., ...,  2.,  2.,  2.])"
      ]
     },
     "execution_count": 5,
     "metadata": {},
     "output_type": "execute_result"
    }
   ],
   "source": [
    "#dictからlistを作成（最初からlistを作成したほうが楽だったかも）\n",
    "branch_list = np.empty(0)\n",
    "\n",
    "for i in range(len(json_value)):\n",
    "    layer_json_value = json_value[\"layer\" + str(i)]\n",
    "    \n",
    "    #input層\n",
    "    if layer_json_value[\"layer_type\"] == \"input\":\n",
    "        if layer_json_value[\"processing_type\"] == \"linear\":\n",
    "            branch_list = np.append(branch_list,linear_input_branch.get_branch(layer_json_value))\n",
    "            \n",
    "        elif layer_json_value[\"processing_type\"] == \"cnn\":\n",
    "            branch_list = np.append(branch_list,cnn_input_branch.get_branch(layer_json_value,IMG_SIZE))\n",
    "            print(cnn_input_branch.get_branch(layer_json_value,IMG_SIZE))\n",
    "            print(len(cnn_input_branch.get_branch(layer_json_value,IMG_SIZE)))\n",
    "            print(\"##########################\")\n",
    "\n",
    "            \n",
    "    #hidden層\n",
    "    if layer_json_value[\"layer_type\"] == \"hidden\":\n",
    "        if layer_json_value[\"processing_type\"] == \"linear\":\n",
    "            branch_list = np.append(branch_list,linear_hidden_branch.get_branch(layer_json_value))\n",
    "            print(linear_hidden_branch.get_branch(layer_json_value))\n",
    "            print(len(linear_hidden_branch.get_branch(layer_json_value)))\n",
    "            print(\"##########################\")\n",
    "            \n",
    "        elif layer_json_value[\"processing_type\"] == \"cnn\":\n",
    "            branch_list = np.append(branch_list,cnn_hidden_branch.get_branch(layer_json_value,IMG_SIZE))\n",
    "            print(cnn_hidden_branch.get_branch(layer_json_value,IMG_SIZE))\n",
    "            print(len(cnn_hidden_branch.get_branch(layer_json_value,IMG_SIZE)))\n",
    "            print(\"##########################\")\n",
    "\n",
    "        elif layer_json_value[\"processing_type\"] == \"max_pooling\":\n",
    "            one_layer_branch_list, IMG_SIZE = max_pooling_branch.get_branch(layer_json_value,IMG_SIZE) \n",
    "            branch_list = np.append(branch_list,one_layer_branch_list)\n",
    "            print(one_layer_branch_list)\n",
    "            print(len(one_layer_branch_list))\n",
    "            print(IMG_SIZE)\n",
    "            print(\"##########################\")\n",
    "\n",
    "        elif layer_json_value[\"processing_type\"] == \"interpolate\":\n",
    "            one_layer_branch_list, IMG_SIZE = interpolate_branch.get_branch(layer_json_value,IMG_SIZE) \n",
    "            branch_list = np.append(branch_list,one_layer_branch_list)\n",
    "            print(one_layer_branch_list)\n",
    "            print(len(one_layer_branch_list))\n",
    "            print(IMG_SIZE)\n",
    "            print(\"##########################\")\n",
    "\n",
    "        elif layer_json_value[\"processing_type\"] == \"adaptive_avg_pooling\":\n",
    "            one_layer_branch_list, IMG_SIZE = adaptive_avg_pooling_branch.get_branch(layer_json_value,IMG_SIZE) \n",
    "            branch_list = np.append(branch_list,one_layer_branch_list)\n",
    "            print(one_layer_branch_list)\n",
    "            print(len(one_layer_branch_list))\n",
    "            print(IMG_SIZE)\n",
    "            print(\"##########################\")\n",
    "\n",
    "    #output層      \n",
    "    if layer_json_value[\"layer_type\"] == \"output\":\n",
    "        if layer_json_value[\"processing_type\"] == \"linear\":\n",
    "            branch_list = np.append(branch_list,linear_output_branch.get_branch(layer_json_value))\n",
    "            print(linear_output_branch.get_branch(layer_json_value))\n",
    "            print(len(linear_output_branch.get_branch(layer_json_value)))\n",
    "            print(\"##########################\")\n",
    "        elif layer_json_value[\"processing_type\"] == \"cnn\":\n",
    "            branch_list = np.append(branch_list,cnn_output_branch.get_branch(layer_json_value,IMG_SIZE))\n",
    "            \n",
    "branch_list"
   ]
  },
  {
   "cell_type": "code",
   "execution_count": 6,
   "metadata": {},
   "outputs": [
    {
     "data": {
      "text/plain": [
       "4"
      ]
     },
     "execution_count": 6,
     "metadata": {},
     "output_type": "execute_result"
    }
   ],
   "source": [
    "IMG_SIZE"
   ]
  },
  {
   "cell_type": "code",
   "execution_count": 7,
   "metadata": {},
   "outputs": [
    {
     "data": {
      "text/plain": [
       "(array([941.,   0.,   0.,   0.,   0., 500.,   0.,   0.,   0.,  75.]),\n",
       " array([ 1. ,  5.7, 10.4, 15.1, 19.8, 24.5, 29.2, 33.9, 38.6, 43.3, 48. ]),\n",
       " <a list of 10 Patch objects>)"
      ]
     },
     "execution_count": 7,
     "metadata": {},
     "output_type": "execute_result"
    },
    {
     "data": {
      "image/png": "[encoded data removed]",
      "text/plain": [
       "<Figure size 432x288 with 1 Axes>"
      ]
     },
     "metadata": {
      "needs_background": "light"
     },
     "output_type": "display_data"
    }
   ],
   "source": [
    "plt.hist(branch_list)"
   ]
  }
 ],
 "metadata": {
  "kernelspec": {
   "display_name": "Python 3",
   "language": "python",
   "name": "python3"
  },
  "language_info": {
   "codemirror_mode": {
    "name": "ipython",
    "version": 3
   },
   "file_extension": ".py",
   "mimetype": "text/x-python",
   "name": "python",
   "nbconvert_exporter": "python",
   "pygments_lexer": "ipython3",
   "version": "3.8.1"
  }
 },
 "nbformat": 4,
 "nbformat_minor": 4
}
