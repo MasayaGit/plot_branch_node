{
 "cells": [
  {
   "cell_type": "code",
   "execution_count": 1,
   "metadata": {},
   "outputs": [],
   "source": [
    "import sys\n",
    "sys.path.append('../')\n",
    "sys.path.append('../get_branch/linear')\n",
    "sys.path.append('../get_branch/cnn')\n",
    "sys.path.append('../get_branch/max_pooling')\n",
    "sys.path.append('../get_branch/interpolate')\n",
    "sys.path.append('../get_branch/adaptive_avg_pooling')\n",
    "sys.path.append('../model_json/make_json_program/cnn')\n",
    "sys.path.append('../util')\n",
    "\n",
    "import json\n",
    "import numpy as np\n",
    "import matplotlib.pyplot as plt\n",
    "import util_for_hist\n",
    "\n",
    "import make_esrgan_generator_json\n",
    "import linear_input_branch\n",
    "import linear_hidden_branch\n",
    "import linear_output_branch\n",
    "import cnn_input_branch\n",
    "import cnn_hidden_branch\n",
    "import cnn_output_branch\n",
    "import max_pooling_branch\n",
    "import interpolate_branch\n",
    "import adaptive_avg_pooling_branch"
   ]
  },
  {
   "cell_type": "code",
   "execution_count": 2,
   "metadata": {},
   "outputs": [],
   "source": [
    "#画像は正方形を仮定\n",
    "IMG_SIZE = 224"
   ]
  },
  {
   "cell_type": "code",
   "execution_count": 3,
   "metadata": {},
   "outputs": [],
   "source": [
    "make_esrgan_generator_json.make_json()"
   ]
  },
  {
   "cell_type": "code",
   "execution_count": 4,
   "metadata": {},
   "outputs": [
    {
     "data": {
      "text/plain": [
       "{'layer0': {'input_channels': 3,\n",
       "  'out_channels': 64,\n",
       "  'kernel_size': 3,\n",
       "  'layer_type': 'input',\n",
       "  'processing_type': 'cnn',\n",
       "  'skip_connection': 0},\n",
       " 'layer1': {'input_channels': 64,\n",
       "  'out_channels': 32,\n",
       "  'kernel_size': 3,\n",
       "  'layer_type': 'hidden',\n",
       "  'processing_type': 'cnn',\n",
       "  'skip_connection': 7},\n",
       " 'layer2': {'input_channels': 96,\n",
       "  'out_channels': 32,\n",
       "  'kernel_size': 3,\n",
       "  'layer_type': 'hidden',\n",
       "  'processing_type': 'cnn',\n",
       "  'skip_connection': 3},\n",
       " 'layer3': {'input_channels': 128,\n",
       "  'out_channels': 32,\n",
       "  'kernel_size': 3,\n",
       "  'layer_type': 'hidden',\n",
       "  'processing_type': 'cnn',\n",
       "  'skip_connection': 2},\n",
       " 'layer4': {'input_channels': 160,\n",
       "  'out_channels': 32,\n",
       "  'kernel_size': 3,\n",
       "  'layer_type': 'hidden',\n",
       "  'processing_type': 'cnn',\n",
       "  'skip_connection': 1},\n",
       " 'layer5': {'input_channels': 192,\n",
       "  'out_channels': 64,\n",
       "  'kernel_size': 3,\n",
       "  'layer_type': 'hidden',\n",
       "  'processing_type': 'cnn',\n",
       "  'skip_connection': 0},\n",
       " 'layer6': {'input_channels': 64,\n",
       "  'out_channels': 32,\n",
       "  'kernel_size': 3,\n",
       "  'layer_type': 'hidden',\n",
       "  'processing_type': 'cnn',\n",
       "  'skip_connection': 5},\n",
       " 'layer7': {'input_channels': 96,\n",
       "  'out_channels': 32,\n",
       "  'kernel_size': 3,\n",
       "  'layer_type': 'hidden',\n",
       "  'processing_type': 'cnn',\n",
       "  'skip_connection': 3},\n",
       " 'layer8': {'input_channels': 128,\n",
       "  'out_channels': 32,\n",
       "  'kernel_size': 3,\n",
       "  'layer_type': 'hidden',\n",
       "  'processing_type': 'cnn',\n",
       "  'skip_connection': 2},\n",
       " 'layer9': {'input_channels': 160,\n",
       "  'out_channels': 32,\n",
       "  'kernel_size': 3,\n",
       "  'layer_type': 'hidden',\n",
       "  'processing_type': 'cnn',\n",
       "  'skip_connection': 1},\n",
       " 'layer10': {'input_channels': 192,\n",
       "  'out_channels': 64,\n",
       "  'kernel_size': 3,\n",
       "  'layer_type': 'hidden',\n",
       "  'processing_type': 'cnn',\n",
       "  'skip_connection': 0},\n",
       " 'layer11': {'input_channels': 64,\n",
       "  'out_channels': 32,\n",
       "  'kernel_size': 3,\n",
       "  'layer_type': 'hidden',\n",
       "  'processing_type': 'cnn',\n",
       "  'skip_connection': 5},\n",
       " 'layer12': {'input_channels': 96,\n",
       "  'out_channels': 32,\n",
       "  'kernel_size': 3,\n",
       "  'layer_type': 'hidden',\n",
       "  'processing_type': 'cnn',\n",
       "  'skip_connection': 3},\n",
       " 'layer13': {'input_channels': 128,\n",
       "  'out_channels': 32,\n",
       "  'kernel_size': 3,\n",
       "  'layer_type': 'hidden',\n",
       "  'processing_type': 'cnn',\n",
       "  'skip_connection': 2},\n",
       " 'layer14': {'input_channels': 160,\n",
       "  'out_channels': 32,\n",
       "  'kernel_size': 3,\n",
       "  'layer_type': 'hidden',\n",
       "  'processing_type': 'cnn',\n",
       "  'skip_connection': 1},\n",
       " 'layer15': {'input_channels': 192,\n",
       "  'out_channels': 64,\n",
       "  'kernel_size': 3,\n",
       "  'layer_type': 'hidden',\n",
       "  'processing_type': 'cnn',\n",
       "  'skip_connection': 0},\n",
       " 'layer16': {'input_channels': 64,\n",
       "  'out_channels': 64,\n",
       "  'kernel_size': 3,\n",
       "  'layer_type': 'hidden',\n",
       "  'processing_type': 'cnn',\n",
       "  'skip_connection': 0},\n",
       " 'layer17': {'input_channels': 64,\n",
       "  'out_channels': 64,\n",
       "  'scale_factor': 2,\n",
       "  'layer_type': 'hidden',\n",
       "  'processing_type': 'interpolate',\n",
       "  'skip_connection': 0},\n",
       " 'layer18': {'input_channels': 64,\n",
       "  'out_channels': 64,\n",
       "  'kernel_size': 3,\n",
       "  'layer_type': 'hidden',\n",
       "  'processing_type': 'cnn',\n",
       "  'skip_connection': 0},\n",
       " 'layer19': {'input_channels': 64,\n",
       "  'out_channels': 64,\n",
       "  'scale_factor': 2,\n",
       "  'layer_type': 'hidden',\n",
       "  'processing_type': 'interpolate',\n",
       "  'skip_connection': 0},\n",
       " 'layer20': {'input_channels': 64,\n",
       "  'out_channels': 64,\n",
       "  'kernel_size': 3,\n",
       "  'layer_type': 'hidden',\n",
       "  'processing_type': 'cnn',\n",
       "  'skip_connection': 0},\n",
       " 'layer21': {'input_channels': 64,\n",
       "  'out_channels': 64,\n",
       "  'kernel_size': 3,\n",
       "  'layer_type': 'hidden',\n",
       "  'processing_type': 'cnn',\n",
       "  'skip_connection': 0},\n",
       " 'layer22': {'input_channels': 64,\n",
       "  'out_channels': 3,\n",
       "  'kernel_size': 3,\n",
       "  'layer_type': 'hidden',\n",
       "  'processing_type': 'cnn',\n",
       "  'skip_connection': 0}}"
      ]
     },
     "execution_count": 4,
     "metadata": {},
     "output_type": "execute_result"
    }
   ],
   "source": [
    "json_file = open('../model_json/json/esrgan_generator.json', 'r')\n",
    "json_value  = json.load(json_file)\n",
    "json_value"
   ]
  },
  {
   "cell_type": "code",
   "execution_count": 5,
   "metadata": {
    "scrolled": true
   },
   "outputs": [
    {
     "name": "stdout",
     "output_type": "stream",
     "text": [
      "[576 576 576 ... 576 576 576]\n",
      "150528\n",
      "##########################\n",
      "[295 295 295 ... 295 295 295]\n",
      "3211264\n",
      "##########################\n",
      "[291 291 291 ... 291 291 291]\n",
      "4816896\n",
      "##########################\n",
      "[290 290 290 ... 290 290 290]\n",
      "6422528\n",
      "##########################\n",
      "[289 289 289 ... 289 289 289]\n",
      "8028160\n",
      "##########################\n",
      "[576 576 576 ... 576 576 576]\n",
      "9633792\n",
      "##########################\n",
      "[293 293 293 ... 293 293 293]\n",
      "3211264\n",
      "##########################\n",
      "[291 291 291 ... 291 291 291]\n",
      "4816896\n",
      "##########################\n",
      "[290 290 290 ... 290 290 290]\n",
      "6422528\n",
      "##########################\n",
      "[289 289 289 ... 289 289 289]\n",
      "8028160\n",
      "##########################\n",
      "[576 576 576 ... 576 576 576]\n",
      "9633792\n",
      "##########################\n",
      "[293 293 293 ... 293 293 293]\n",
      "3211264\n",
      "##########################\n",
      "[291 291 291 ... 291 291 291]\n",
      "4816896\n",
      "##########################\n",
      "[290 290 290 ... 290 290 290]\n",
      "6422528\n",
      "##########################\n",
      "[289 289 289 ... 289 289 289]\n",
      "8028160\n",
      "##########################\n",
      "[576 576 576 ... 576 576 576]\n",
      "9633792\n",
      "##########################\n",
      "[576 576 576 ... 576 576 576]\n",
      "3211264\n",
      "##########################\n",
      "[4 4 4 ... 4 4 4]\n",
      "3211264\n",
      "448\n",
      "##########################\n",
      "[576 576 576 ... 576 576 576]\n",
      "12845056\n",
      "##########################\n",
      "[4 4 4 ... 4 4 4]\n",
      "12845056\n",
      "896\n",
      "##########################\n",
      "[576 576 576 ... 576 576 576]\n",
      "51380224\n",
      "##########################\n",
      "[576 576 576 ... 576 576 576]\n",
      "51380224\n",
      "##########################\n",
      "[27 27 27 ... 27 27 27]\n",
      "51380224\n",
      "##########################\n"
     ]
    },
    {
     "data": {
      "text/plain": [
       "array([576., 576., 576., ...,  27.,  27.,  27.])"
      ]
     },
     "execution_count": 5,
     "metadata": {},
     "output_type": "execute_result"
    }
   ],
   "source": [
    "#dictからlistを作成（最初からlistを作成したほうが楽だったかも）\n",
    "branch_list = np.empty(0)\n",
    "\n",
    "for i in range(len(json_value)):\n",
    "    layer_json_value = json_value[\"layer\" + str(i)]\n",
    "    \n",
    "    #input層\n",
    "    if layer_json_value[\"layer_type\"] == \"input\":\n",
    "        if layer_json_value[\"processing_type\"] == \"linear\":\n",
    "            branch_list = np.append(branch_list,linear_input_branch.get_branch(layer_json_value))\n",
    "            \n",
    "        elif layer_json_value[\"processing_type\"] == \"cnn\":\n",
    "            branch_list = np.append(branch_list,cnn_input_branch.get_branch(layer_json_value,IMG_SIZE))\n",
    "            print(cnn_input_branch.get_branch(layer_json_value,IMG_SIZE))\n",
    "            print(len(cnn_input_branch.get_branch(layer_json_value,IMG_SIZE)))\n",
    "            print(\"##########################\")\n",
    "\n",
    "            \n",
    "    #hidden層\n",
    "    if layer_json_value[\"layer_type\"] == \"hidden\":\n",
    "        if layer_json_value[\"processing_type\"] == \"linear\":\n",
    "            branch_list = np.append(branch_list,linear_hidden_branch.get_branch(layer_json_value))\n",
    "            print(linear_hidden_branch.get_branch(layer_json_value))\n",
    "            print(len(linear_hidden_branch.get_branch(layer_json_value)))\n",
    "            print(\"##########################\")\n",
    "            \n",
    "        elif layer_json_value[\"processing_type\"] == \"cnn\":\n",
    "            branch_list = np.append(branch_list,cnn_hidden_branch.get_branch(layer_json_value,IMG_SIZE))\n",
    "            print(cnn_hidden_branch.get_branch(layer_json_value,IMG_SIZE))\n",
    "            print(len(cnn_hidden_branch.get_branch(layer_json_value,IMG_SIZE)))\n",
    "            print(\"##########################\")\n",
    "\n",
    "        elif layer_json_value[\"processing_type\"] == \"max_pooling\":\n",
    "            one_layer_branch_list, IMG_SIZE = max_pooling_branch.get_branch(layer_json_value,IMG_SIZE) \n",
    "            branch_list = np.append(branch_list,one_layer_branch_list)\n",
    "            print(one_layer_branch_list)\n",
    "            print(len(one_layer_branch_list))\n",
    "            print(IMG_SIZE)\n",
    "            print(\"##########################\")\n",
    "\n",
    "        elif layer_json_value[\"processing_type\"] == \"interpolate\":\n",
    "            one_layer_branch_list, IMG_SIZE = interpolate_branch.get_branch(layer_json_value,IMG_SIZE) \n",
    "            branch_list = np.append(branch_list,one_layer_branch_list)\n",
    "            print(one_layer_branch_list)\n",
    "            print(len(one_layer_branch_list))\n",
    "            print(IMG_SIZE)\n",
    "            print(\"##########################\")\n",
    "\n",
    "        elif layer_json_value[\"processing_type\"] == \"adaptive_avg_pooling\":\n",
    "            one_layer_branch_list, IMG_SIZE = adaptive_avg_pooling_branch.get_branch(layer_json_value,IMG_SIZE) \n",
    "            branch_list = np.append(branch_list,one_layer_branch_list)\n",
    "            print(one_layer_branch_list)\n",
    "            print(len(one_layer_branch_list))\n",
    "            print(IMG_SIZE)\n",
    "            print(\"##########################\")\n",
    "\n",
    "    #output層      \n",
    "    if layer_json_value[\"layer_type\"] == \"output\":\n",
    "        if layer_json_value[\"processing_type\"] == \"linear\":\n",
    "            branch_list = np.append(branch_list,linear_output_branch.get_branch(layer_json_value))\n",
    "            print(linear_output_branch.get_branch(layer_json_value))\n",
    "            print(len(linear_output_branch.get_branch(layer_json_value)))\n",
    "            print(\"##########################\")\n",
    "        elif layer_json_value[\"processing_type\"] == \"cnn\":\n",
    "            branch_list = np.append(branch_list,cnn_output_branch.get_branch(layer_json_value,IMG_SIZE))\n",
    "            \n",
    "branch_list"
   ]
  },
  {
   "cell_type": "code",
   "execution_count": 6,
   "metadata": {},
   "outputs": [
    {
     "data": {
      "text/plain": [
       "896"
      ]
     },
     "execution_count": 6,
     "metadata": {},
     "output_type": "execute_result"
    }
   ],
   "source": [
    "IMG_SIZE"
   ]
  },
  {
   "cell_type": "code",
   "execution_count": 7,
   "metadata": {},
   "outputs": [
    {
     "data": {
      "text/plain": [
       "[4.0, 27.0, 289.0, 290.0, 291.0, 293.0, 295.0, 576.0]"
      ]
     },
     "execution_count": 7,
     "metadata": {},
     "output_type": "execute_result"
    }
   ],
   "source": [
    "sort_set_branch_list = util_for_hist.get_sort_branch_list(branch_list)\n",
    "sort_set_branch_list"
   ]
  },
  {
   "cell_type": "code",
   "execution_count": 8,
   "metadata": {},
   "outputs": [
    {
     "data": {
      "text/plain": [
       "576.0"
      ]
     },
     "execution_count": 8,
     "metadata": {},
     "output_type": "execute_result"
    }
   ],
   "source": [
    "max_branch = util_for_hist.get_max_set_branch(sort_set_branch_list)\n",
    "max_branch"
   ]
  },
  {
   "cell_type": "code",
   "execution_count": 9,
   "metadata": {},
   "outputs": [
    {
     "data": {
      "text/plain": [
       "23.0"
      ]
     },
     "execution_count": 9,
     "metadata": {},
     "output_type": "execute_result"
    }
   ],
   "source": [
    "min_sabun = util_for_hist.get_min_sabun(sort_set_branch_list)\n",
    "min_sabun"
   ]
  },
  {
   "cell_type": "code",
   "execution_count": 10,
   "metadata": {},
   "outputs": [
    {
     "data": {
      "text/plain": [
       "26"
      ]
     },
     "execution_count": 10,
     "metadata": {},
     "output_type": "execute_result"
    }
   ],
   "source": [
    "bins = util_for_hist.get_bin(max_branch,min_sabun)\n",
    "bins"
   ]
  },
  {
   "cell_type": "code",
   "execution_count": 11,
   "metadata": {
    "scrolled": false
   },
   "outputs": [
    {
     "data": {
      "text/plain": [
       "(array([1.60563200e+07, 5.13802240e+07, 0.00000000e+00, 0.00000000e+00,\n",
       "        0.00000000e+00, 0.00000000e+00, 0.00000000e+00, 0.00000000e+00,\n",
       "        0.00000000e+00, 0.00000000e+00, 0.00000000e+00, 0.00000000e+00,\n",
       "        0.00000000e+00, 6.74365440e+07, 0.00000000e+00, 0.00000000e+00,\n",
       "        0.00000000e+00, 0.00000000e+00, 0.00000000e+00, 0.00000000e+00,\n",
       "        0.00000000e+00, 0.00000000e+00, 0.00000000e+00, 0.00000000e+00,\n",
       "        0.00000000e+00, 1.47868672e+08]),\n",
       " array([  0.        ,  22.15384615,  44.30769231,  66.46153846,\n",
       "         88.61538462, 110.76923077, 132.92307692, 155.07692308,\n",
       "        177.23076923, 199.38461538, 221.53846154, 243.69230769,\n",
       "        265.84615385, 288.        , 310.15384615, 332.30769231,\n",
       "        354.46153846, 376.61538462, 398.76923077, 420.92307692,\n",
       "        443.07692308, 465.23076923, 487.38461538, 509.53846154,\n",
       "        531.69230769, 553.84615385, 576.        ]),\n",
       " <a list of 26 Patch objects>)"
      ]
     },
     "execution_count": 11,
     "metadata": {},
     "output_type": "execute_result"
    },
    {
     "data": {
      "image/png": "[encoded data removed]",
      "text/plain": [
       "<Figure size 432x288 with 1 Axes>"
      ]
     },
     "metadata": {
      "needs_background": "light"
     },
     "output_type": "display_data"
    }
   ],
   "source": [
    "plt.rcParams[\"xtick.direction\"] = \"in\" \n",
    "plt.rcParams[\"ytick.direction\"] = \"in\" \n",
    "plt.xlabel(\"The number of edges\")\n",
    "plt.ylabel(\"The number of nodes\")\n",
    "plt.hist(branch_list,bins=bins,range=(0,max_branch))"
   ]
  }
 ],
 "metadata": {
  "kernelspec": {
   "display_name": "Python 3",
   "language": "python",
   "name": "python3"
  },
  "language_info": {
   "codemirror_mode": {
    "name": "ipython",
    "version": 3
   },
   "file_extension": ".py",
   "mimetype": "text/x-python",
   "name": "python",
   "nbconvert_exporter": "python",
   "pygments_lexer": "ipython3",
   "version": "3.8.1"
  }
 },
 "nbformat": 4,
 "nbformat_minor": 4
}
