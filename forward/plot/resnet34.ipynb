{
 "cells": [
  {
   "cell_type": "code",
   "execution_count": 1,
   "metadata": {},
   "outputs": [],
   "source": [
    "import sys\n",
    "sys.path.append('../')\n",
    "sys.path.append('../get_branch/linear')\n",
    "sys.path.append('../get_branch/cnn')\n",
    "sys.path.append('../get_branch/max_pooling')\n",
    "sys.path.append('../get_branch/adaptive_avg_pooling')\n",
    "sys.path.append('../model_json/make_json_program/cnn')\n",
    "sys.path.append('../util')\n",
    "\n",
    "import json\n",
    "import numpy as np\n",
    "import matplotlib.pyplot as plt\n",
    "import util_for_hist\n",
    "\n",
    "import make_resnet34_json\n",
    "import linear_input_branch\n",
    "import linear_hidden_branch\n",
    "import linear_output_branch\n",
    "import cnn_input_branch\n",
    "import cnn_hidden_branch\n",
    "import cnn_output_branch\n",
    "import max_pooling_branch\n",
    "import adaptive_avg_pooling_branch"
   ]
  },
  {
   "cell_type": "code",
   "execution_count": 2,
   "metadata": {},
   "outputs": [],
   "source": [
    "#画像は正方形を仮定\n",
    "IMG_SIZE = 224"
   ]
  },
  {
   "cell_type": "code",
   "execution_count": 3,
   "metadata": {},
   "outputs": [],
   "source": [
    "make_resnet34_json.make_json()"
   ]
  },
  {
   "cell_type": "code",
   "execution_count": 4,
   "metadata": {},
   "outputs": [
    {
     "data": {
      "text/plain": [
       "{'layer0': {'input_channels': 3,\n",
       "  'out_channels': 64,\n",
       "  'kernel_size': 7,\n",
       "  'layer_type': 'input',\n",
       "  'processing_type': 'cnn',\n",
       "  'skip_connection': 0},\n",
       " 'layer1': {'input_channels': 64,\n",
       "  'out_channels': 64,\n",
       "  'stride': 2,\n",
       "  'layer_type': 'hidden',\n",
       "  'processing_type': 'max_pooling',\n",
       "  'skip_connection': 0},\n",
       " 'layer2': {'input_channels': 64,\n",
       "  'out_channels': 64,\n",
       "  'kernel_size': 3,\n",
       "  'layer_type': 'hidden',\n",
       "  'processing_type': 'cnn',\n",
       "  'skip_connection': 1},\n",
       " 'layer3': {'input_channels': 64,\n",
       "  'out_channels': 64,\n",
       "  'kernel_size': 3,\n",
       "  'layer_type': 'hidden',\n",
       "  'processing_type': 'cnn',\n",
       "  'skip_connection': 0},\n",
       " 'layer4': {'input_channels': 64,\n",
       "  'out_channels': 64,\n",
       "  'kernel_size': 3,\n",
       "  'layer_type': 'hidden',\n",
       "  'processing_type': 'cnn',\n",
       "  'skip_connection': 1},\n",
       " 'layer5': {'input_channels': 64,\n",
       "  'out_channels': 64,\n",
       "  'kernel_size': 3,\n",
       "  'layer_type': 'hidden',\n",
       "  'processing_type': 'cnn',\n",
       "  'skip_connection': 0},\n",
       " 'layer6': {'input_channels': 64,\n",
       "  'out_channels': 64,\n",
       "  'kernel_size': 3,\n",
       "  'layer_type': 'hidden',\n",
       "  'processing_type': 'cnn',\n",
       "  'skip_connection': 1},\n",
       " 'layer7': {'input_channels': 64,\n",
       "  'out_channels': 64,\n",
       "  'kernel_size': 3,\n",
       "  'layer_type': 'hidden',\n",
       "  'processing_type': 'cnn',\n",
       "  'skip_connection': 0},\n",
       " 'layer8': {'input_channels': 64,\n",
       "  'out_channels': 128,\n",
       "  'kernel_size': 3,\n",
       "  'layer_type': 'hidden',\n",
       "  'processing_type': 'cnn',\n",
       "  'skip_connection': 1},\n",
       " 'layer9': {'input_channels': 128,\n",
       "  'out_channels': 128,\n",
       "  'kernel_size': 3,\n",
       "  'layer_type': 'hidden',\n",
       "  'processing_type': 'cnn',\n",
       "  'skip_connection': 0},\n",
       " 'layer10': {'input_channels': 128,\n",
       "  'out_channels': 128,\n",
       "  'kernel_size': 3,\n",
       "  'layer_type': 'hidden',\n",
       "  'processing_type': 'cnn',\n",
       "  'skip_connection': 1},\n",
       " 'layer11': {'input_channels': 128,\n",
       "  'out_channels': 128,\n",
       "  'kernel_size': 3,\n",
       "  'layer_type': 'hidden',\n",
       "  'processing_type': 'cnn',\n",
       "  'skip_connection': 0},\n",
       " 'layer12': {'input_channels': 128,\n",
       "  'out_channels': 128,\n",
       "  'kernel_size': 3,\n",
       "  'layer_type': 'hidden',\n",
       "  'processing_type': 'cnn',\n",
       "  'skip_connection': 1},\n",
       " 'layer13': {'input_channels': 128,\n",
       "  'out_channels': 128,\n",
       "  'kernel_size': 3,\n",
       "  'layer_type': 'hidden',\n",
       "  'processing_type': 'cnn',\n",
       "  'skip_connection': 0},\n",
       " 'layer14': {'input_channels': 128,\n",
       "  'out_channels': 128,\n",
       "  'kernel_size': 3,\n",
       "  'layer_type': 'hidden',\n",
       "  'processing_type': 'cnn',\n",
       "  'skip_connection': 1},\n",
       " 'layer15': {'input_channels': 128,\n",
       "  'out_channels': 128,\n",
       "  'kernel_size': 3,\n",
       "  'layer_type': 'hidden',\n",
       "  'processing_type': 'cnn',\n",
       "  'skip_connection': 0},\n",
       " 'layer16': {'input_channels': 128,\n",
       "  'out_channels': 256,\n",
       "  'kernel_size': 3,\n",
       "  'layer_type': 'hidden',\n",
       "  'processing_type': 'cnn',\n",
       "  'skip_connection': 1},\n",
       " 'layer17': {'input_channels': 256,\n",
       "  'out_channels': 256,\n",
       "  'kernel_size': 3,\n",
       "  'layer_type': 'hidden',\n",
       "  'processing_type': 'cnn',\n",
       "  'skip_connection': 0},\n",
       " 'layer18': {'input_channels': 256,\n",
       "  'out_channels': 256,\n",
       "  'kernel_size': 3,\n",
       "  'layer_type': 'hidden',\n",
       "  'processing_type': 'cnn',\n",
       "  'skip_connection': 1},\n",
       " 'layer19': {'input_channels': 256,\n",
       "  'out_channels': 256,\n",
       "  'kernel_size': 3,\n",
       "  'layer_type': 'hidden',\n",
       "  'processing_type': 'cnn',\n",
       "  'skip_connection': 0},\n",
       " 'layer20': {'input_channels': 256,\n",
       "  'out_channels': 256,\n",
       "  'kernel_size': 3,\n",
       "  'layer_type': 'hidden',\n",
       "  'processing_type': 'cnn',\n",
       "  'skip_connection': 1},\n",
       " 'layer21': {'input_channels': 256,\n",
       "  'out_channels': 256,\n",
       "  'kernel_size': 3,\n",
       "  'layer_type': 'hidden',\n",
       "  'processing_type': 'cnn',\n",
       "  'skip_connection': 0},\n",
       " 'layer22': {'input_channels': 256,\n",
       "  'out_channels': 256,\n",
       "  'kernel_size': 3,\n",
       "  'layer_type': 'hidden',\n",
       "  'processing_type': 'cnn',\n",
       "  'skip_connection': 1},\n",
       " 'layer23': {'input_channels': 256,\n",
       "  'out_channels': 256,\n",
       "  'kernel_size': 3,\n",
       "  'layer_type': 'hidden',\n",
       "  'processing_type': 'cnn',\n",
       "  'skip_connection': 0},\n",
       " 'layer24': {'input_channels': 256,\n",
       "  'out_channels': 256,\n",
       "  'kernel_size': 3,\n",
       "  'layer_type': 'hidden',\n",
       "  'processing_type': 'cnn',\n",
       "  'skip_connection': 1},\n",
       " 'layer25': {'input_channels': 256,\n",
       "  'out_channels': 256,\n",
       "  'kernel_size': 3,\n",
       "  'layer_type': 'hidden',\n",
       "  'processing_type': 'cnn',\n",
       "  'skip_connection': 0},\n",
       " 'layer26': {'input_channels': 256,\n",
       "  'out_channels': 256,\n",
       "  'kernel_size': 3,\n",
       "  'layer_type': 'hidden',\n",
       "  'processing_type': 'cnn',\n",
       "  'skip_connection': 1},\n",
       " 'layer27': {'input_channels': 256,\n",
       "  'out_channels': 256,\n",
       "  'kernel_size': 3,\n",
       "  'layer_type': 'hidden',\n",
       "  'processing_type': 'cnn',\n",
       "  'skip_connection': 0},\n",
       " 'layer28': {'input_channels': 256,\n",
       "  'out_channels': 512,\n",
       "  'kernel_size': 3,\n",
       "  'layer_type': 'hidden',\n",
       "  'processing_type': 'cnn',\n",
       "  'skip_connection': 1},\n",
       " 'layer29': {'input_channels': 512,\n",
       "  'out_channels': 512,\n",
       "  'kernel_size': 3,\n",
       "  'layer_type': 'hidden',\n",
       "  'processing_type': 'cnn',\n",
       "  'skip_connection': 0},\n",
       " 'layer30': {'input_channels': 512,\n",
       "  'out_channels': 512,\n",
       "  'kernel_size': 3,\n",
       "  'layer_type': 'hidden',\n",
       "  'processing_type': 'cnn',\n",
       "  'skip_connection': 1},\n",
       " 'layer31': {'input_channels': 512,\n",
       "  'out_channels': 512,\n",
       "  'kernel_size': 3,\n",
       "  'layer_type': 'hidden',\n",
       "  'processing_type': 'cnn',\n",
       "  'skip_connection': 0},\n",
       " 'layer32': {'input_channels': 512,\n",
       "  'out_channels': 512,\n",
       "  'kernel_size': 3,\n",
       "  'layer_type': 'hidden',\n",
       "  'processing_type': 'cnn',\n",
       "  'skip_connection': 1},\n",
       " 'layer33': {'input_channels': 512,\n",
       "  'out_channels': 512,\n",
       "  'kernel_size': 3,\n",
       "  'layer_type': 'hidden',\n",
       "  'processing_type': 'cnn',\n",
       "  'skip_connection': 0},\n",
       " 'layer34': {'input_channels': 512,\n",
       "  'out_channels': 512,\n",
       "  'output_size': 1,\n",
       "  'layer_type': 'hidden',\n",
       "  'processing_type': 'adaptive_avg_pooling',\n",
       "  'skip_connection': 0},\n",
       " 'layer35': {'input_features': 512,\n",
       "  'out_features': 1000,\n",
       "  'layer_type': 'output',\n",
       "  'processing_type': 'linear'}}"
      ]
     },
     "execution_count": 4,
     "metadata": {},
     "output_type": "execute_result"
    }
   ],
   "source": [
    "json_file = open('../model_json/json/resnet34.json', 'r')\n",
    "json_value  = json.load(json_file)\n",
    "json_value"
   ]
  },
  {
   "cell_type": "code",
   "execution_count": 5,
   "metadata": {},
   "outputs": [
    {
     "data": {
      "text/plain": [
       "array([3136., 3136., 3136., ..., 1000., 1000., 1000.])"
      ]
     },
     "execution_count": 5,
     "metadata": {},
     "output_type": "execute_result"
    }
   ],
   "source": [
    "#dictからlistを作成（最初からlistを作成したほうが楽だったかも）\n",
    "branch_list = np.empty(0)\n",
    "\n",
    "for i in range(len(json_value)):\n",
    "    layer_json_value = json_value[\"layer\" + str(i)]\n",
    "    \n",
    "    #input層\n",
    "    if layer_json_value[\"layer_type\"] == \"input\":\n",
    "        if layer_json_value[\"processing_type\"] == \"linear\":\n",
    "            branch_list = np.append(branch_list,linear_input_branch.get_branch(layer_json_value))\n",
    "            \n",
    "        elif layer_json_value[\"processing_type\"] == \"cnn\":\n",
    "            branch_list = np.append(branch_list,cnn_input_branch.get_branch(layer_json_value,IMG_SIZE))\n",
    "            #print(cnn_input_branch.get_branch(layer_json_value,IMG_SIZE))\n",
    "            #print(len(cnn_input_branch.get_branch(layer_json_value,IMG_SIZE)))\n",
    "            #print(\"##########################\")\n",
    "\n",
    "            \n",
    "    #hidden層\n",
    "    if layer_json_value[\"layer_type\"] == \"hidden\":\n",
    "        if layer_json_value[\"processing_type\"] == \"linear\":\n",
    "            branch_list = np.append(branch_list,linear_hidden_branch.get_branch(layer_json_value))\n",
    "        elif layer_json_value[\"processing_type\"] == \"cnn\":\n",
    "            branch_list = np.append(branch_list,cnn_hidden_branch.get_branch(layer_json_value,IMG_SIZE))\n",
    "            #print(cnn_hidden_branch.get_branch(layer_json_value,IMG_SIZE))\n",
    "            #print(len(cnn_hidden_branch.get_branch(layer_json_value,IMG_SIZE)))\n",
    "            #print(\"##########################\")\n",
    "\n",
    "        elif layer_json_value[\"processing_type\"] == \"max_pooling\":\n",
    "            one_layer_branch_list, IMG_SIZE = max_pooling_branch.get_branch(layer_json_value,IMG_SIZE) \n",
    "            branch_list = np.append(branch_list,one_layer_branch_list)\n",
    "            #print(one_layer_branch_list)\n",
    "            #print(len(one_layer_branch_list))\n",
    "            #print(IMG_SIZE)\n",
    "            #print(\"##########################\")\n",
    "\n",
    "        elif layer_json_value[\"processing_type\"] == \"adaptive_avg_pooling\":\n",
    "            one_layer_branch_list, IMG_SIZE = adaptive_avg_pooling_branch.get_branch(layer_json_value,IMG_SIZE) \n",
    "            branch_list = np.append(branch_list,one_layer_branch_list)\n",
    "            #print(one_layer_branch_list)\n",
    "            #print(len(one_layer_branch_list))\n",
    "            #print(IMG_SIZE)\n",
    "            #print(\"##########################\")\n",
    "\n",
    "            \n",
    "    #output層      \n",
    "    if layer_json_value[\"layer_type\"] == \"output\":\n",
    "        if layer_json_value[\"processing_type\"] == \"linear\":\n",
    "            branch_list = np.append(branch_list,linear_output_branch.get_branch(layer_json_value))\n",
    "            #print(linear_output_branch.get_branch(layer_json_value))\n",
    "            #print(len(linear_output_branch.get_branch(layer_json_value)))\n",
    "            #print(\"##########################\")\n",
    "        elif layer_json_value[\"processing_type\"] == \"cnn\":\n",
    "            branch_list = np.append(branch_list,cnn_output_branch.get_branch(layer_json_value,IMG_SIZE))\n",
    "            \n",
    "branch_list"
   ]
  },
  {
   "cell_type": "code",
   "execution_count": 6,
   "metadata": {},
   "outputs": [
    {
     "data": {
      "text/plain": [
       "1"
      ]
     },
     "execution_count": 6,
     "metadata": {},
     "output_type": "execute_result"
    }
   ],
   "source": [
    "IMG_SIZE"
   ]
  },
  {
   "cell_type": "code",
   "execution_count": 7,
   "metadata": {},
   "outputs": [
    {
     "data": {
      "text/plain": [
       "[1.0,\n",
       " 576.0,\n",
       " 577.0,\n",
       " 1000.0,\n",
       " 1152.0,\n",
       " 1153.0,\n",
       " 2304.0,\n",
       " 2305.0,\n",
       " 3136.0,\n",
       " 4608.0,\n",
       " 4609.0]"
      ]
     },
     "execution_count": 7,
     "metadata": {},
     "output_type": "execute_result"
    }
   ],
   "source": [
    "sort_set_branch_list = util_for_hist.get_sort_branch_list(branch_list)\n",
    "sort_set_branch_list"
   ]
  },
  {
   "cell_type": "code",
   "execution_count": 8,
   "metadata": {},
   "outputs": [
    {
     "data": {
      "text/plain": [
       "4609.0"
      ]
     },
     "execution_count": 8,
     "metadata": {},
     "output_type": "execute_result"
    }
   ],
   "source": [
    "max_branch = util_for_hist.get_max_set_branch(sort_set_branch_list)\n",
    "max_branch"
   ]
  },
  {
   "cell_type": "code",
   "execution_count": 9,
   "metadata": {},
   "outputs": [
    {
     "data": {
      "text/plain": [
       "152.0"
      ]
     },
     "execution_count": 9,
     "metadata": {},
     "output_type": "execute_result"
    }
   ],
   "source": [
    "min_sabun = util_for_hist.get_min_sabun(sort_set_branch_list)\n",
    "min_sabun"
   ]
  },
  {
   "cell_type": "code",
   "execution_count": 10,
   "metadata": {},
   "outputs": [
    {
     "data": {
      "text/plain": [
       "31"
      ]
     },
     "execution_count": 10,
     "metadata": {},
     "output_type": "execute_result"
    }
   ],
   "source": [
    "bins = util_for_hist.get_bin(max_branch,min_sabun)\n",
    "bins"
   ]
  },
  {
   "cell_type": "code",
   "execution_count": 11,
   "metadata": {},
   "outputs": [
    {
     "data": {
      "text/plain": [
       "(array([9.6337920e+06, 0.0000000e+00, 0.0000000e+00, 4.8168960e+06,\n",
       "        0.0000000e+00, 0.0000000e+00, 5.1200000e+02, 1.2042240e+07,\n",
       "        0.0000000e+00, 0.0000000e+00, 0.0000000e+00, 0.0000000e+00,\n",
       "        0.0000000e+00, 0.0000000e+00, 0.0000000e+00, 3.6929536e+07,\n",
       "        0.0000000e+00, 0.0000000e+00, 0.0000000e+00, 0.0000000e+00,\n",
       "        0.0000000e+00, 1.5052800e+05, 0.0000000e+00, 0.0000000e+00,\n",
       "        0.0000000e+00, 0.0000000e+00, 0.0000000e+00, 0.0000000e+00,\n",
       "        0.0000000e+00, 0.0000000e+00, 3.5323904e+07]),\n",
       " array([   0.        ,  148.67741935,  297.35483871,  446.03225806,\n",
       "         594.70967742,  743.38709677,  892.06451613, 1040.74193548,\n",
       "        1189.41935484, 1338.09677419, 1486.77419355, 1635.4516129 ,\n",
       "        1784.12903226, 1932.80645161, 2081.48387097, 2230.16129032,\n",
       "        2378.83870968, 2527.51612903, 2676.19354839, 2824.87096774,\n",
       "        2973.5483871 , 3122.22580645, 3270.90322581, 3419.58064516,\n",
       "        3568.25806452, 3716.93548387, 3865.61290323, 4014.29032258,\n",
       "        4162.96774194, 4311.64516129, 4460.32258065, 4609.        ]),\n",
       " <a list of 31 Patch objects>)"
      ]
     },
     "execution_count": 11,
     "metadata": {},
     "output_type": "execute_result"
    },
    {
     "data": {
      "image/png": "[encoded data removed]",
      "text/plain": [
       "<Figure size 432x288 with 1 Axes>"
      ]
     },
     "metadata": {
      "needs_background": "light"
     },
     "output_type": "display_data"
    }
   ],
   "source": [
    "plt.rcParams[\"xtick.direction\"] = \"in\" \n",
    "plt.rcParams[\"ytick.direction\"] = \"in\" \n",
    "plt.xlabel(\"The number of edges\")\n",
    "plt.ylabel(\"The number of nodes\")\n",
    "plt.hist(branch_list,bins=bins,range=(0,max_branch))"
   ]
  }
 ],
 "metadata": {
  "kernelspec": {
   "display_name": "Python 3",
   "language": "python",
   "name": "python3"
  },
  "language_info": {
   "codemirror_mode": {
    "name": "ipython",
    "version": 3
   },
   "file_extension": ".py",
   "mimetype": "text/x-python",
   "name": "python",
   "nbconvert_exporter": "python",
   "pygments_lexer": "ipython3",
   "version": "3.8.1"
  }
 },
 "nbformat": 4,
 "nbformat_minor": 4
}
