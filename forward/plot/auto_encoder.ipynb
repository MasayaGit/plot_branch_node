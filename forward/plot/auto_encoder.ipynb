{
 "cells": [
  {
   "cell_type": "code",
   "execution_count": 1,
   "metadata": {},
   "outputs": [],
   "source": [
    "import sys\n",
    "sys.path.append('../')\n",
    "sys.path.append('../get_branch/linear')\n",
    "sys.path.append('../model_json/make_json_program')\n",
    "\n",
    "import json\n",
    "import numpy as np\n",
    "import matplotlib.pyplot as plt\n",
    "\n",
    "import make_auto_encoder_json\n",
    "import input_branch\n",
    "import hidden_branch\n",
    "import output_branch\n",
    "import util"
   ]
  },
  {
   "cell_type": "code",
   "execution_count": 2,
   "metadata": {},
   "outputs": [],
   "source": [
    "make_auto_encoder_json.make_json()"
   ]
  },
  {
   "cell_type": "code",
   "execution_count": 3,
   "metadata": {},
   "outputs": [
    {
     "data": {
      "text/plain": [
       "{'layer0': {'input_features': 784, 'out_features': 128, 'layer_type': 'input'},\n",
       " 'layer1': {'input_features': 128, 'out_features': 64, 'layer_type': 'hidden'},\n",
       " 'layer2': {'input_features': 64, 'out_features': 12, 'layer_type': 'hidden'},\n",
       " 'layer3': {'input_features': 12, 'out_features': 3, 'layer_type': 'hidden'},\n",
       " 'layer4': {'input_features': 3, 'out_features': 12, 'layer_type': 'hidden'},\n",
       " 'layer5': {'input_features': 12, 'out_features': 64, 'layer_type': 'hidden'},\n",
       " 'layer6': {'input_features': 64, 'out_features': 128, 'layer_type': 'hidden'},\n",
       " 'layer7': {'input_features': 128,\n",
       "  'out_features': 784,\n",
       "  'layer_type': 'output'}}"
      ]
     },
     "execution_count": 3,
     "metadata": {},
     "output_type": "execute_result"
    }
   ],
   "source": [
    "json_file = open('../model_json/json/auto_encoder.json', 'r')\n",
    "json_value  = json.load(json_file)\n",
    "json_value"
   ]
  },
  {
   "cell_type": "code",
   "execution_count": 4,
   "metadata": {},
   "outputs": [
    {
     "data": {
      "text/plain": [
       "{128: 1568, 848: 256, 140: 128, 67: 24, 24: 3}"
      ]
     },
     "execution_count": 4,
     "metadata": {},
     "output_type": "execute_result"
    }
   ],
   "source": [
    "all_branch_node_dict = {}\n",
    "for i in range(len(json_value)):\n",
    "    get_branch_node_dict = {}\n",
    "    if json_value[\"layer\" + str(i)][\"layer_type\"] == \"input\":\n",
    "        get_branch_node_dict = input_branch.get_branch(json_value[\"layer\" + str(i)])\n",
    "        util.renew_dic(all_branch_node_dict,get_branch_node_dict)\n",
    "        \n",
    "    \n",
    "    #前と後ろで枝が伸びているパターン　隠れ層にあるノードを処理。\n",
    "    #出力ノードの一個前にあるノードもここで処理(outputで判定)\n",
    "    if json_value[\"layer\" + str(i)][\"layer_type\"] == \"hidden\" or json_value[\"layer\" + str(i)][\"layer_type\"] == \"output\":\n",
    "        now_str_layer = \"layer\" + str(i)\n",
    "        now_layer_json_value = json_value[now_str_layer]\n",
    "        before_str_layer = \"layer\" + str(i-1)\n",
    "        before_layer_json_value = json_value[before_str_layer]\n",
    "        get_branch_node_dict = hidden_branch.get_branch(now_layer_json_value,before_layer_json_value)\n",
    "        util.renew_dic(all_branch_node_dict,get_branch_node_dict)\n",
    "\n",
    "    if json_value[\"layer\" + str(i)][\"layer_type\"] == \"output\":\n",
    "        get_branch_node_dict = output_branch.get_branch(json_value[\"layer\" + str(i)])\n",
    "        util.renew_dic(all_branch_node_dict,get_branch_node_dict)\n",
    "all_branch_node_dict"
   ]
  },
  {
   "cell_type": "code",
   "execution_count": 5,
   "metadata": {},
   "outputs": [
    {
     "data": {
      "text/plain": [
       "array([128., 128., 128., ...,  24.,  24.,  24.])"
      ]
     },
     "execution_count": 5,
     "metadata": {},
     "output_type": "execute_result"
    }
   ],
   "source": [
    "#dictからlistを作成（最初からlistを作成したほうが楽だったかも）\n",
    "hist_list = np.empty(0)\n",
    "for node_branch,number_of_node in all_branch_node_dict.items():\n",
    "    #key次数(横軸) valueノード数(縦軸) \n",
    "    #number_of_nodeだけnode_branchを増やす\n",
    "    hist_list = np.append(hist_list,np.full(number_of_node, node_branch))\n",
    "hist_list"
   ]
  },
  {
   "cell_type": "code",
   "execution_count": 6,
   "metadata": {},
   "outputs": [
    {
     "data": {
      "text/plain": [
       "(array([  27., 1696.,    0.,    0.,    0.,    0.,    0.,    0.,    0.,\n",
       "         256.]),\n",
       " array([ 24. , 106.4, 188.8, 271.2, 353.6, 436. , 518.4, 600.8, 683.2,\n",
       "        765.6, 848. ]),\n",
       " <a list of 10 Patch objects>)"
      ]
     },
     "execution_count": 6,
     "metadata": {},
     "output_type": "execute_result"
    },
    {
     "data": {
      "image/png": "[encoded data removed]",
      "text/plain": [
       "<Figure size 432x288 with 1 Axes>"
      ]
     },
     "metadata": {
      "needs_background": "light"
     },
     "output_type": "display_data"
    }
   ],
   "source": [
    "plt.hist(hist_list)"
   ]
  }
 ],
 "metadata": {
  "kernelspec": {
   "display_name": "Python 3",
   "language": "python",
   "name": "python3"
  },
  "language_info": {
   "codemirror_mode": {
    "name": "ipython",
    "version": 3
   },
   "file_extension": ".py",
   "mimetype": "text/x-python",
   "name": "python",
   "nbconvert_exporter": "python",
   "pygments_lexer": "ipython3",
   "version": "3.8.1"
  }
 },
 "nbformat": 4,
 "nbformat_minor": 4
}
